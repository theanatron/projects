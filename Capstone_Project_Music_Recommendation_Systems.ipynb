{
 "cells": [
  {
   "cell_type": "markdown",
   "metadata": {
    "id": "DyAjEw4OHmDb"
   },
   "source": [
    "# **Music Recommendation System**"
   ]
  },
  {
   "cell_type": "markdown",
   "metadata": {
    "id": "BVUiyhYTHS1t"
   },
   "source": [
    "## **Problem Definition**\n",
    "\n",
    "**The context** - Why is this problem important to solve?<br>\n",
    "**The objectives** - What is the intended goal?<br>\n",
    "**The key questions** - What are the key questions that need to be answered?<br>\n",
    "**The problem formulation** - What is it that we are trying to solve using data science?\n",
    "\n",
    "\n",
    "## **Data Dictionary**\n",
    "\n",
    "The core data is the Taste Profile Subset released by The Echo Nest as part of the Million Song Dataset. There are two files in this dataset. One contains the details about the song id, titles, release, artist name and the year of release. Second file contains the user id, song id and the play count of users.\n",
    "\n",
    "song_data\n",
    "\n",
    "song_id - A unique id given to every song\n",
    "\n",
    "title - Title of the song\n",
    "\n",
    "Release - Name of the released album\n",
    "\n",
    "Artist_name - Name of the artist \n",
    "\n",
    "year - Year of release\n",
    "\n",
    "count_data\n",
    "\n",
    "user _id - A unique id given to the user\n",
    "\n",
    "song_id - A unique id given to the song\n",
    "\n",
    "play_count - Number of times the song was played\n",
    "\n",
    "## **Data Source**\n",
    "http://millionsongdataset.com/"
   ]
  },
  {
   "cell_type": "markdown",
   "metadata": {
    "id": "entENKtxK-g-"
   },
   "source": [
    "## **Important Notes**\n",
    "\n",
    "- This notebook can be considered a guide to refer to while solving the problem. The evaluation will be as per the Rubric shared for each Milestone. Unlike previous courses, it does not follow the pattern of the graded questions in different sections. This notebook would give you a direction on what steps need to be taken in order to get a viable solution to the problem. Please note that this is just one way of doing this. There can be other 'creative' ways to solve the problem and we urge you to feel free and explore them as an 'optional' exercise. \n",
    "\n",
    "- In the notebook, there are markdown cells called - Observations and Insights. It is a good practice to provide observations and extract insights from the outputs.\n",
    "\n",
    "- The naming convention for different variables can vary. Please consider the code provided in this notebook as a sample code.\n",
    "\n",
    "- All the outputs in the notebook are just for reference and can be different if you follow a different approach.\n",
    "\n",
    "- There are sections called **Think About It** in the notebook that will help you get a better understanding of the reasoning behind a particular technique/step. Interested learners can take alternative approaches if they want to explore different techniques. "
   ]
  },
  {
   "cell_type": "markdown",
   "metadata": {
    "id": "NRJtXkTrHxMQ"
   },
   "source": [
    "### **Importing Libraries and the Dataset**"
   ]
  },
  {
   "cell_type": "code",
   "execution_count": null,
   "metadata": {
    "colab": {
     "base_uri": "https://localhost:8080/"
    },
    "id": "6SRzOPXI2Efn",
    "outputId": "ca41742e-159a-480b-f702-2af9243854d4"
   },
   "outputs": [
    {
     "name": "stdout",
     "output_type": "stream",
     "text": [
      "Mounted at /content/drive\n"
     ]
    }
   ],
   "source": [
    "#Mounting the drive\n",
    "from google.colab import drive\n",
    "drive.mount('/content/drive')"
   ]
  },
  {
   "cell_type": "code",
   "execution_count": null,
   "metadata": {
    "id": "R4YvKrpzId3K"
   },
   "outputs": [],
   "source": [
    "import warnings #Used to ignore the warning given as output of the code.\n",
    "warnings.filterwarnings('ignore')\n",
    "\n",
    "import numpy as np # Basic libraries of python for numeric and dataframe computations.\n",
    "import pandas as pd\n",
    "\n",
    "import matplotlib.pyplot as plt #Basic library for data visualization.\n",
    "import seaborn as sns #Slightly advanced library for data visualization\n",
    "\n",
    "from sklearn.metrics.pairwise import cosine_similarity #To compute the cosine similarity between two vectors.\n",
    "from collections import defaultdict #A dictionary output that does not raise a key error\n",
    "\n",
    "from sklearn.metrics import mean_squared_error # A performance metrics in sklearn.\n",
    "from sklearn.preprocessing import LabelEncoder  # To do label encoding"
   ]
  },
  {
   "cell_type": "code",
   "execution_count": null,
   "metadata": {
    "id": "si6ulhIYImck"
   },
   "outputs": [],
   "source": [
    "#importing the datasets\n",
    "count_df = pd.read_csv('/content/drive/MyDrive/count_data.csv')\n",
    "song_df = pd.read_csv('/content/drive/MyDrive/song_data.csv')"
   ]
  },
  {
   "cell_type": "markdown",
   "metadata": {
    "id": "12TKB2M7XyC6"
   },
   "source": [
    "### **Understanding the data by viewing a few observations**"
   ]
  },
  {
   "cell_type": "code",
   "execution_count": null,
   "metadata": {
    "colab": {
     "base_uri": "https://localhost:8080/"
    },
    "id": "GCLzBuYiXlPM",
    "outputId": "8b7c41e9-1b60-4660-f723-948d13b3e7d9"
   },
   "outputs": [
    {
     "data": {
      "text/plain": [
       "song_id\n",
       "SOFRQTD12A81C233C0    8277\n",
       "SOAUWYT12A81C206F1    7032\n",
       "SOAXGDH12A8C13F8A1    6949\n",
       "SOBONKR12A58A7A7E0    6412\n",
       "SOSXLTC12AF72A7F54    6145\n",
       "SONYKOW12AB01849C9    5841\n",
       "SOEGIYH12A6D4FC0E3    5385\n",
       "SOLFXKT12AB017E3E0    4795\n",
       "SODJWHY12A8C142CCE    4758\n",
       "SOFLJQZ12A6D4FADA6    4548\n",
       "dtype: int64"
      ]
     },
     "execution_count": 4,
     "metadata": {},
     "output_type": "execute_result"
    }
   ],
   "source": [
    "# See top 10 records of count_df data\n",
    "\n",
    "most_rated_count = count_df.groupby('song_id').size().sort_values(ascending = False)[:10]\n",
    "\n",
    "most_rated_count"
   ]
  },
  {
   "cell_type": "code",
   "execution_count": null,
   "metadata": {
    "colab": {
     "base_uri": "https://localhost:8080/"
    },
    "id": "tV1ed0ApXpu3",
    "outputId": "be161680-d876-464a-ff82-ec94f1d417c3"
   },
   "outputs": [
    {
     "data": {
      "text/plain": [
       "song_id\n",
       "SOUYQYY12AF72A000F    3\n",
       "SOLNCTS12A8C1405EF    3\n",
       "SOQNMCD12A8C1383D4    3\n",
       "SOBPAEP12A58A77F49    3\n",
       "SOVASUH12A67021B44    3\n",
       "SOPRYHK12A8AE47858    3\n",
       "SOPOCDY12A8C13F75A    3\n",
       "SOFBCSG12AAF3B2AA0    3\n",
       "SOKBIIQ12AB017FEFC    3\n",
       "SOTPHGF12A8C142844    3\n",
       "dtype: int64"
      ]
     },
     "execution_count": 5,
     "metadata": {},
     "output_type": "execute_result"
    }
   ],
   "source": [
    "# See top 10 records of song_df data\n",
    "\n",
    "most_rated_song = song_df.groupby('song_id').size().sort_values(ascending = False)[:10]\n",
    "\n",
    "most_rated_song"
   ]
  },
  {
   "cell_type": "markdown",
   "metadata": {
    "id": "bvKb5FHcXzcN"
   },
   "source": [
    "### **Let us check the data types and and missing values of each column**"
   ]
  },
  {
   "cell_type": "code",
   "execution_count": null,
   "metadata": {
    "colab": {
     "base_uri": "https://localhost:8080/"
    },
    "id": "yyoHc_cnX19J",
    "outputId": "2665d14c-6ba3-4752-90fb-4e0a71cd6fa3"
   },
   "outputs": [
    {
     "name": "stdout",
     "output_type": "stream",
     "text": [
      "<class 'pandas.core.frame.DataFrame'>\n",
      "RangeIndex: 2000000 entries, 0 to 1999999\n",
      "Data columns (total 4 columns):\n",
      " #   Column      Dtype \n",
      "---  ------      ----- \n",
      " 0   Unnamed: 0  int64 \n",
      " 1   user_id     object\n",
      " 2   song_id     object\n",
      " 3   play_count  int64 \n",
      "dtypes: int64(2), object(2)\n",
      "memory usage: 61.0+ MB\n"
     ]
    }
   ],
   "source": [
    "# See the info of the count_df data\n",
    "\n",
    "count_df.info()"
   ]
  },
  {
   "cell_type": "code",
   "execution_count": null,
   "metadata": {
    "colab": {
     "base_uri": "https://localhost:8080/"
    },
    "id": "rz3zDx_LX42y",
    "outputId": "263c3f0f-7f72-4782-8259-f80f2143884b"
   },
   "outputs": [
    {
     "name": "stdout",
     "output_type": "stream",
     "text": [
      "<class 'pandas.core.frame.DataFrame'>\n",
      "RangeIndex: 1000000 entries, 0 to 999999\n",
      "Data columns (total 5 columns):\n",
      " #   Column       Non-Null Count    Dtype \n",
      "---  ------       --------------    ----- \n",
      " 0   song_id      1000000 non-null  object\n",
      " 1   title        999985 non-null   object\n",
      " 2   release      999995 non-null   object\n",
      " 3   artist_name  1000000 non-null  object\n",
      " 4   year         1000000 non-null  int64 \n",
      "dtypes: int64(1), object(4)\n",
      "memory usage: 38.1+ MB\n"
     ]
    }
   ],
   "source": [
    "# See the info of the song_df data\n",
    "\n",
    "song_df.info()"
   ]
  },
  {
   "cell_type": "markdown",
   "metadata": {
    "id": "Ze2TlWxpYadn"
   },
   "source": [
    "#### **Observations and Insights:**\n",
    "\n",
    "- In the count dataframe, we have a column is data that we could drop since it is not useful to us\n",
    "- The dtypes for the columns are all objects with the exception of year which is an integer in the song df and in count df all are objects with the exception of the play counts\n",
    "- We have some missing values in title and release in the song_df \n"
   ]
  },
  {
   "cell_type": "code",
   "execution_count": null,
   "metadata": {
    "id": "oTeurvID2T9U"
   },
   "outputs": [],
   "source": [
    "# Left merge the count_df and song_df data on \"song_id\". Drop duplicates from song_df data simultaneously.\n",
    "\n",
    "df = pd.merge(count_df,song_df,on='song_id', how='left')\n",
    "\n",
    "# Drop the column 'Unnamed: 0'\n",
    "\n",
    "df = df.drop('Unnamed: 0', axis = 1)"
   ]
  },
  {
   "cell_type": "markdown",
   "metadata": {
    "id": "yWeY9ZT43XFX"
   },
   "source": [
    "**Think About It:** As the user_id and song_id are encrypted. Can they be encoded to numeric features?"
   ]
  },
  {
   "cell_type": "code",
   "execution_count": null,
   "metadata": {
    "id": "oxeoOVxh2T9U"
   },
   "outputs": [],
   "source": [
    "# Apply label encoding for \"user_id\" and \"song_id\"\n",
    "le = LabelEncoder()\n",
    "\n",
    "df['user_id'] = le.fit_transform(df['user_id'])\n",
    "df['song_id'] = le.fit_transform(df['song_id'])"
   ]
  },
  {
   "cell_type": "markdown",
   "metadata": {
    "id": "6Q9EFYwj35Ju"
   },
   "source": [
    "**Think About It:** As the data also contains users who have listened to very few songs and vice versa, is it required to filter the data so that it contains users who have listened to a good count of songs and vice versa?"
   ]
  },
  {
   "cell_type": "code",
   "execution_count": null,
   "metadata": {
    "id": "7GGH9TW0_9uX"
   },
   "outputs": [],
   "source": [
    "# Get the column containing the users\n",
    "users = df.user_id\n",
    "# Create a dictionary from users to their number of songs\n",
    "ratings_count = dict()\n",
    "for user in users:\n",
    "    # If we already have the user, just add 1 to their rating count\n",
    "    if user in ratings_count:\n",
    "        ratings_count[user] += 1\n",
    "    # Otherwise, set their rating count to 1\n",
    "    else:\n",
    "        ratings_count[user] = 1    "
   ]
  },
  {
   "cell_type": "code",
   "execution_count": null,
   "metadata": {
    "id": "-cc6mOK7_9uX"
   },
   "outputs": [],
   "source": [
    "# We want our users to have listened at least 90 songs\n",
    "RATINGS_CUTOFF = 90\n",
    "remove_users = []\n",
    "for user, num_ratings in ratings_count.items():\n",
    "    if num_ratings < RATINGS_CUTOFF:\n",
    "        remove_users.append(user)\n",
    "df = df.loc[~df.user_id.isin(remove_users)]"
   ]
  },
  {
   "cell_type": "code",
   "execution_count": null,
   "metadata": {
    "id": "B5BS-Wk5_9uY"
   },
   "outputs": [],
   "source": [
    "# Get the column containing the songs\n",
    "songs = df.song_id\n",
    "# Create a dictionary from songs to their number of users\n",
    "ratings_count = dict()\n",
    "for song in songs:\n",
    "    # If we already have the song, just add 1 to their rating count\n",
    "    if song in ratings_count:\n",
    "        ratings_count[song] += 1\n",
    "    # Otherwise, set their rating count to 1\n",
    "    else:\n",
    "        ratings_count[song] = 1    "
   ]
  },
  {
   "cell_type": "code",
   "execution_count": null,
   "metadata": {
    "id": "_nCtGwGO_9uY"
   },
   "outputs": [],
   "source": [
    "# We want our song to be listened by atleast 120 users to be considred\n",
    "RATINGS_CUTOFF = 120\n",
    "remove_songs = []\n",
    "for song, num_ratings in ratings_count.items():\n",
    "    if num_ratings < RATINGS_CUTOFF:\n",
    "        remove_songs.append(song)\n",
    "df_final= df.loc[~df.song_id.isin(remove_songs)]"
   ]
  },
  {
   "cell_type": "code",
   "execution_count": null,
   "metadata": {
    "id": "8qaKeoMcGpad"
   },
   "outputs": [],
   "source": [
    "# Drop records with play_count more than(>) 5\n",
    "\n",
    "df_final.drop(df_final[df_final['play_count'] > 5].index, inplace = True)"
   ]
  },
  {
   "cell_type": "code",
   "execution_count": null,
   "metadata": {
    "colab": {
     "base_uri": "https://localhost:8080/"
    },
    "id": "aL1JZ00o5JtQ",
    "outputId": "8cee3dde-9bba-4bf9-ff16-4db4ed95671f"
   },
   "outputs": [
    {
     "data": {
      "text/plain": [
       "(154377, 7)"
      ]
     },
     "execution_count": 15,
     "metadata": {},
     "output_type": "execute_result"
    }
   ],
   "source": [
    "# Check the shape of the data\n",
    "df_final.shape"
   ]
  },
  {
   "cell_type": "markdown",
   "metadata": {
    "id": "uZcr1Eke2T9W"
   },
   "source": [
    "## **Exploratory Data Analysis**"
   ]
  },
  {
   "cell_type": "markdown",
   "metadata": {
    "id": "ByuHmvWDeBJI"
   },
   "source": [
    "### **Let's check the total number of unique users, songs, artists in the data**"
   ]
  },
  {
   "cell_type": "markdown",
   "metadata": {
    "id": "DE_gukSJ2T9W"
   },
   "source": [
    "Total number of unique user id"
   ]
  },
  {
   "cell_type": "code",
   "execution_count": null,
   "metadata": {
    "colab": {
     "base_uri": "https://localhost:8080/"
    },
    "id": "n5E24_Ec2T9W",
    "outputId": "5e83cfae-d6cc-44f0-bb0d-2e4fbd222b20"
   },
   "outputs": [
    {
     "data": {
      "text/plain": [
       "3476"
      ]
     },
     "execution_count": 16,
     "metadata": {},
     "output_type": "execute_result"
    }
   ],
   "source": [
    "# Display total number of unique user_id\n",
    "\n",
    "df_final['user_id'].nunique()"
   ]
  },
  {
   "cell_type": "markdown",
   "metadata": {
    "id": "wV3BOTdJII-t"
   },
   "source": [
    "Total number of unique song id"
   ]
  },
  {
   "cell_type": "code",
   "execution_count": null,
   "metadata": {
    "colab": {
     "base_uri": "https://localhost:8080/"
    },
    "id": "5SlpPkIE2T9W",
    "outputId": "98d90efc-a057-413a-f375-dbcfb4e7afd4"
   },
   "outputs": [
    {
     "data": {
      "text/plain": [
       "695"
      ]
     },
     "execution_count": 17,
     "metadata": {},
     "output_type": "execute_result"
    }
   ],
   "source": [
    "# Display total number of unique song_id\n",
    "df_final['song_id'].nunique()"
   ]
  },
  {
   "cell_type": "markdown",
   "metadata": {
    "id": "eGXPsCjXVpUW"
   },
   "source": [
    "Total number of unique artists"
   ]
  },
  {
   "cell_type": "code",
   "execution_count": null,
   "metadata": {
    "colab": {
     "base_uri": "https://localhost:8080/"
    },
    "id": "qSVUwb8h2T9X",
    "outputId": "f431f354-7113-4c07-f094-745827e49c9d"
   },
   "outputs": [
    {
     "data": {
      "text/plain": [
       "3379"
      ]
     },
     "execution_count": 18,
     "metadata": {},
     "output_type": "execute_result"
    }
   ],
   "source": [
    "# Display total number of unique artists\n",
    "df['artist_name'].nunique()"
   ]
  },
  {
   "cell_type": "markdown",
   "metadata": {
    "id": "bvk-YAo-eGGW"
   },
   "source": [
    "#### **Observations and Insights:**\n",
    "\n",
    "- There are 3476 total unique users\n",
    "- There are 695 total unique songs\n",
    "- There are 3379 total unique artists\n"
   ]
  },
  {
   "cell_type": "markdown",
   "metadata": {
    "id": "rLdIfv22ISBK"
   },
   "source": [
    "### **Let's find out about the most interacted songs and interacted users**"
   ]
  },
  {
   "cell_type": "markdown",
   "metadata": {
    "id": "W3DyN_8atsCx"
   },
   "source": [
    "Most interacted songs"
   ]
  },
  {
   "cell_type": "code",
   "execution_count": null,
   "metadata": {
    "colab": {
     "base_uri": "https://localhost:8080/"
    },
    "id": "qWDrvIFF2T9X",
    "outputId": "ef32ed15-a062-4851-9846-37323f107b68"
   },
   "outputs": [
    {
     "data": {
      "text/plain": [
       "song_id\n",
       "8582    1652\n",
       "6293    1294\n",
       "3567    1014\n",
       "4270     975\n",
       "1286     940\n",
       "310      926\n",
       "7796     924\n",
       "5291     850\n",
       "7998     844\n",
       "352      821\n",
       "dtype: int64"
      ]
     },
     "execution_count": 19,
     "metadata": {},
     "output_type": "execute_result"
    }
   ],
   "source": [
    "most_interacted_songs = df_final.groupby('song_id').size().sort_values(ascending = False)[:10]\n",
    "most_interacted_songs"
   ]
  },
  {
   "cell_type": "markdown",
   "metadata": {
    "id": "nnoXCc9zIV45"
   },
   "source": [
    "Most interacted users"
   ]
  },
  {
   "cell_type": "code",
   "execution_count": null,
   "metadata": {
    "colab": {
     "base_uri": "https://localhost:8080/"
    },
    "id": "971EiBdf2T9X",
    "outputId": "dd541d47-56fb-4c40-d414-b3d102bc56ed"
   },
   "outputs": [
    {
     "data": {
      "text/plain": [
       "user_id\n",
       "61472    311\n",
       "37049    267\n",
       "15733    243\n",
       "75144    237\n",
       "9570     212\n",
       "10763    210\n",
       "23337    204\n",
       "31704    201\n",
       "43041    200\n",
       "37851    197\n",
       "dtype: int64"
      ]
     },
     "execution_count": 20,
     "metadata": {},
     "output_type": "execute_result"
    }
   ],
   "source": [
    "most_interacted_users = df_final.groupby('user_id').size().sort_values(ascending = False)[:10]\n",
    "most_interacted_users"
   ]
  },
  {
   "cell_type": "markdown",
   "metadata": {
    "id": "tPZRc1e-eyyO"
   },
   "source": [
    "#### **Observations and Insights:**\n",
    "\n",
    "- Song ID 8582 is the most interacted song with 1652 interactions\n",
    "- User ID 61472 is the most interacted user with 311 interactions\n"
   ]
  },
  {
   "cell_type": "markdown",
   "metadata": {
    "id": "joFF5zndX1Dk"
   },
   "source": [
    "Songs played in a year"
   ]
  },
  {
   "cell_type": "code",
   "execution_count": null,
   "metadata": {
    "colab": {
     "base_uri": "https://localhost:8080/",
     "height": 299
    },
    "id": "bQp2iVMC2T9Y",
    "outputId": "a2b37170-51f0-45ed-e21a-5b6a48c2b594"
   },
   "outputs": [
    {
     "data": {
      "text/html": [
       "\n",
       "  <div id=\"df-4c78ca85-ea7d-458c-a5ec-209cce1aa73f\">\n",
       "    <div class=\"colab-df-container\">\n",
       "      <div>\n",
       "<style scoped>\n",
       "    .dataframe tbody tr th:only-of-type {\n",
       "        vertical-align: middle;\n",
       "    }\n",
       "\n",
       "    .dataframe tbody tr th {\n",
       "        vertical-align: top;\n",
       "    }\n",
       "\n",
       "    .dataframe thead th {\n",
       "        text-align: right;\n",
       "    }\n",
       "</style>\n",
       "<table border=\"1\" class=\"dataframe\">\n",
       "  <thead>\n",
       "    <tr style=\"text-align: right;\">\n",
       "      <th></th>\n",
       "      <th>title</th>\n",
       "    </tr>\n",
       "    <tr>\n",
       "      <th>year</th>\n",
       "      <th></th>\n",
       "    </tr>\n",
       "  </thead>\n",
       "  <tbody>\n",
       "    <tr>\n",
       "      <th>2006</th>\n",
       "      <td>9515</td>\n",
       "    </tr>\n",
       "    <tr>\n",
       "      <th>2007</th>\n",
       "      <td>17510</td>\n",
       "    </tr>\n",
       "    <tr>\n",
       "      <th>2008</th>\n",
       "      <td>18619</td>\n",
       "    </tr>\n",
       "    <tr>\n",
       "      <th>2009</th>\n",
       "      <td>19856</td>\n",
       "    </tr>\n",
       "    <tr>\n",
       "      <th>2010</th>\n",
       "      <td>5541</td>\n",
       "    </tr>\n",
       "  </tbody>\n",
       "</table>\n",
       "</div>\n",
       "      <button class=\"colab-df-convert\" onclick=\"convertToInteractive('df-4c78ca85-ea7d-458c-a5ec-209cce1aa73f')\"\n",
       "              title=\"Convert this dataframe to an interactive table.\"\n",
       "              style=\"display:none;\">\n",
       "        \n",
       "  <svg xmlns=\"http://www.w3.org/2000/svg\" height=\"24px\"viewBox=\"0 0 24 24\"\n",
       "       width=\"24px\">\n",
       "    <path d=\"M0 0h24v24H0V0z\" fill=\"none\"/>\n",
       "    <path d=\"M18.56 5.44l.94 2.06.94-2.06 2.06-.94-2.06-.94-.94-2.06-.94 2.06-2.06.94zm-11 1L8.5 8.5l.94-2.06 2.06-.94-2.06-.94L8.5 2.5l-.94 2.06-2.06.94zm10 10l.94 2.06.94-2.06 2.06-.94-2.06-.94-.94-2.06-.94 2.06-2.06.94z\"/><path d=\"M17.41 7.96l-1.37-1.37c-.4-.4-.92-.59-1.43-.59-.52 0-1.04.2-1.43.59L10.3 9.45l-7.72 7.72c-.78.78-.78 2.05 0 2.83L4 21.41c.39.39.9.59 1.41.59.51 0 1.02-.2 1.41-.59l7.78-7.78 2.81-2.81c.8-.78.8-2.07 0-2.86zM5.41 20L4 18.59l7.72-7.72 1.47 1.35L5.41 20z\"/>\n",
       "  </svg>\n",
       "      </button>\n",
       "      \n",
       "  <style>\n",
       "    .colab-df-container {\n",
       "      display:flex;\n",
       "      flex-wrap:wrap;\n",
       "      gap: 12px;\n",
       "    }\n",
       "\n",
       "    .colab-df-convert {\n",
       "      background-color: #E8F0FE;\n",
       "      border: none;\n",
       "      border-radius: 50%;\n",
       "      cursor: pointer;\n",
       "      display: none;\n",
       "      fill: #1967D2;\n",
       "      height: 32px;\n",
       "      padding: 0 0 0 0;\n",
       "      width: 32px;\n",
       "    }\n",
       "\n",
       "    .colab-df-convert:hover {\n",
       "      background-color: #E2EBFA;\n",
       "      box-shadow: 0px 1px 2px rgba(60, 64, 67, 0.3), 0px 1px 3px 1px rgba(60, 64, 67, 0.15);\n",
       "      fill: #174EA6;\n",
       "    }\n",
       "\n",
       "    [theme=dark] .colab-df-convert {\n",
       "      background-color: #3B4455;\n",
       "      fill: #D2E3FC;\n",
       "    }\n",
       "\n",
       "    [theme=dark] .colab-df-convert:hover {\n",
       "      background-color: #434B5C;\n",
       "      box-shadow: 0px 1px 3px 1px rgba(0, 0, 0, 0.15);\n",
       "      filter: drop-shadow(0px 1px 2px rgba(0, 0, 0, 0.3));\n",
       "      fill: #FFFFFF;\n",
       "    }\n",
       "  </style>\n",
       "\n",
       "      <script>\n",
       "        const buttonEl =\n",
       "          document.querySelector('#df-4c78ca85-ea7d-458c-a5ec-209cce1aa73f button.colab-df-convert');\n",
       "        buttonEl.style.display =\n",
       "          google.colab.kernel.accessAllowed ? 'block' : 'none';\n",
       "\n",
       "        async function convertToInteractive(key) {\n",
       "          const element = document.querySelector('#df-4c78ca85-ea7d-458c-a5ec-209cce1aa73f');\n",
       "          const dataTable =\n",
       "            await google.colab.kernel.invokeFunction('convertToInteractive',\n",
       "                                                     [key], {});\n",
       "          if (!dataTable) return;\n",
       "\n",
       "          const docLinkHtml = 'Like what you see? Visit the ' +\n",
       "            '<a target=\"_blank\" href=https://colab.research.google.com/notebooks/data_table.ipynb>data table notebook</a>'\n",
       "            + ' to learn more about interactive tables.';\n",
       "          element.innerHTML = '';\n",
       "          dataTable['output_type'] = 'display_data';\n",
       "          await google.colab.output.renderOutput(dataTable, element);\n",
       "          const docLink = document.createElement('div');\n",
       "          docLink.innerHTML = docLinkHtml;\n",
       "          element.appendChild(docLink);\n",
       "        }\n",
       "      </script>\n",
       "    </div>\n",
       "  </div>\n",
       "  "
      ],
      "text/plain": [
       "      title\n",
       "year       \n",
       "2006   9515\n",
       "2007  17510\n",
       "2008  18619\n",
       "2009  19856\n",
       "2010   5541"
      ]
     },
     "execution_count": 21,
     "metadata": {},
     "output_type": "execute_result"
    }
   ],
   "source": [
    "count_songs = df_final.groupby('year').count()['title']\n",
    "count = pd.DataFrame(count_songs)\n",
    "count.drop(count.index[0], inplace=True)\n",
    "count.tail()"
   ]
  },
  {
   "cell_type": "code",
   "execution_count": null,
   "metadata": {
    "colab": {
     "base_uri": "https://localhost:8080/",
     "height": 54
    },
    "id": "bZCkOiAB2T9Y",
    "outputId": "96f24bfb-4ac6-4a19-9e2b-2a20314caa11"
   },
   "outputs": [
    {
     "data": {
      "image/png": "[encoded data removed]",
      "text/plain": [
       "<Figure size 2160x720 with 1 Axes>"
      ]
     },
     "metadata": {
      "needs_background": "light"
     },
     "output_type": "display_data"
    }
   ],
   "source": [
    "plt.figure(figsize=(30,10))\n",
    "sns.barplot(x = count.index,\n",
    "            y = 'title',\n",
    "            data = count,\n",
    "            estimator = np.median)\n",
    "plt.ylabel('number of titles played') \n",
    "# Show the plot\n",
    "plt.show()"
   ]
  },
  {
   "cell_type": "markdown",
   "metadata": {
    "id": "VUcXc7ZYfaGl"
   },
   "source": [
    "#### **Observations and Insights:**\n",
    "\n",
    "- Based on the bar plot above, 2009 had the most number of titles played \n",
    "- We see a huge decrease from 2009 to 2010 so it would be interesting to see what caused that decrease\n",
    "- Additionally, we see a huge decrease from 2003 to 2004 and 2000 to 2001 so it would be good to see if the same variables that cause the decrease from 2009 to 2010 were similar to previous years"
   ]
  },
  {
   "cell_type": "markdown",
   "metadata": {
    "id": "RtAjyDMioHCp"
   },
   "source": [
    "**Think About It:** What other insights can be drawn using exploratory data analysis?"
   ]
  },
  {
   "cell_type": "markdown",
   "metadata": {
    "id": "uPq5Th7j5h9H"
   },
   "source": [
    "## **Proposed approach**\n",
    "**Potential techniques** - What different techniques should be explored?<br>\n",
    "**Overall solution design** - What is the potential solution design?<br>\n",
    "**Measures of success**- What are the key measures of success to compare different potential technqiues?<br>"
   ]
  },
  {
   "cell_type": "markdown",
   "metadata": {
    "id": "GxzjLgT5yYMi"
   },
   "source": [
    "Potential techniques for building the music recommendations system can be the ranked approach using counts, user-user similarity-based collaborative fitlering, item-item similarity-based collaborative fitlering, and model-based collaborative filtering (matrix factorization).\n",
    "\n",
    "The potential solution design can be utilizing parameters from GridSearchCV to build opimized models from the potential techniques. Also utilizing cross-validation to tune values of the hyperparameters.\n",
    "\n",
    "KPIs to measure the success of each model are the the F_1 Score, Recall, Precision, and RMSE. Additionally, r_ui when we opimize the hyperparameter.\n"
   ]
  },
  {
   "cell_type": "markdown",
   "metadata": {
    "id": "ycMDlEG5MLxg"
   },
   "source": [
    "Now that we have explored the data, let's apply different algorithms to build recommendation systems\n",
    "\n",
    "**Note:** Use the shorter version of the data i.e. the data after the cutoffs as used in Milestone 1."
   ]
  },
  {
   "cell_type": "markdown",
   "metadata": {
    "id": "K8ZsBxrkMO9I"
   },
   "source": [
    "### **Popularity-Based Recommendation Systems**"
   ]
  },
  {
   "cell_type": "markdown",
   "metadata": {
    "id": "3zRkrz4mMSEE"
   },
   "source": [
    "Let's take the count and sum of play counts of the songs and build the popularity recommendation systems on the basis of the sum of play counts."
   ]
  },
  {
   "cell_type": "code",
   "execution_count": null,
   "metadata": {
    "id": "HIpyRYnmMSkw"
   },
   "outputs": [],
   "source": [
    "#Calculating average play_count\n",
    "average_count = df_final.groupby('song_id').mean()['play_count'] #Hint: Use groupby function on the song_id column.\n",
    "\n",
    "#Calculating the frequency a song is played.\n",
    "play_freq = df_final.groupby('song_id').count()['play_count']#Hint: Use groupby function on the song_id column"
   ]
  },
  {
   "cell_type": "code",
   "execution_count": null,
   "metadata": {
    "colab": {
     "base_uri": "https://localhost:8080/",
     "height": 235
    },
    "id": "mO4LGkf4NrTK",
    "outputId": "d93c70bb-96ae-4c83-deb0-2a51427b3fd0"
   },
   "outputs": [
    {
     "data": {
      "text/html": [
       "\n",
       "  <div id=\"df-7f63a5b9-cfe7-4970-8753-ec6aa44e50dc\">\n",
       "    <div class=\"colab-df-container\">\n",
       "      <div>\n",
       "<style scoped>\n",
       "    .dataframe tbody tr th:only-of-type {\n",
       "        vertical-align: middle;\n",
       "    }\n",
       "\n",
       "    .dataframe tbody tr th {\n",
       "        vertical-align: top;\n",
       "    }\n",
       "\n",
       "    .dataframe thead th {\n",
       "        text-align: right;\n",
       "    }\n",
       "</style>\n",
       "<table border=\"1\" class=\"dataframe\">\n",
       "  <thead>\n",
       "    <tr style=\"text-align: right;\">\n",
       "      <th></th>\n",
       "      <th>avg_count</th>\n",
       "      <th>play_freq</th>\n",
       "    </tr>\n",
       "    <tr>\n",
       "      <th>song_id</th>\n",
       "      <th></th>\n",
       "      <th></th>\n",
       "    </tr>\n",
       "  </thead>\n",
       "  <tbody>\n",
       "    <tr>\n",
       "      <th>21</th>\n",
       "      <td>1.635714</td>\n",
       "      <td>280</td>\n",
       "    </tr>\n",
       "    <tr>\n",
       "      <th>22</th>\n",
       "      <td>1.454545</td>\n",
       "      <td>143</td>\n",
       "    </tr>\n",
       "    <tr>\n",
       "      <th>50</th>\n",
       "      <td>1.618182</td>\n",
       "      <td>110</td>\n",
       "    </tr>\n",
       "    <tr>\n",
       "      <th>52</th>\n",
       "      <td>1.719565</td>\n",
       "      <td>460</td>\n",
       "    </tr>\n",
       "    <tr>\n",
       "      <th>62</th>\n",
       "      <td>1.731707</td>\n",
       "      <td>123</td>\n",
       "    </tr>\n",
       "  </tbody>\n",
       "</table>\n",
       "</div>\n",
       "      <button class=\"colab-df-convert\" onclick=\"convertToInteractive('df-7f63a5b9-cfe7-4970-8753-ec6aa44e50dc')\"\n",
       "              title=\"Convert this dataframe to an interactive table.\"\n",
       "              style=\"display:none;\">\n",
       "        \n",
       "  <svg xmlns=\"http://www.w3.org/2000/svg\" height=\"24px\"viewBox=\"0 0 24 24\"\n",
       "       width=\"24px\">\n",
       "    <path d=\"M0 0h24v24H0V0z\" fill=\"none\"/>\n",
       "    <path d=\"M18.56 5.44l.94 2.06.94-2.06 2.06-.94-2.06-.94-.94-2.06-.94 2.06-2.06.94zm-11 1L8.5 8.5l.94-2.06 2.06-.94-2.06-.94L8.5 2.5l-.94 2.06-2.06.94zm10 10l.94 2.06.94-2.06 2.06-.94-2.06-.94-.94-2.06-.94 2.06-2.06.94z\"/><path d=\"M17.41 7.96l-1.37-1.37c-.4-.4-.92-.59-1.43-.59-.52 0-1.04.2-1.43.59L10.3 9.45l-7.72 7.72c-.78.78-.78 2.05 0 2.83L4 21.41c.39.39.9.59 1.41.59.51 0 1.02-.2 1.41-.59l7.78-7.78 2.81-2.81c.8-.78.8-2.07 0-2.86zM5.41 20L4 18.59l7.72-7.72 1.47 1.35L5.41 20z\"/>\n",
       "  </svg>\n",
       "      </button>\n",
       "      \n",
       "  <style>\n",
       "    .colab-df-container {\n",
       "      display:flex;\n",
       "      flex-wrap:wrap;\n",
       "      gap: 12px;\n",
       "    }\n",
       "\n",
       "    .colab-df-convert {\n",
       "      background-color: #E8F0FE;\n",
       "      border: none;\n",
       "      border-radius: 50%;\n",
       "      cursor: pointer;\n",
       "      display: none;\n",
       "      fill: #1967D2;\n",
       "      height: 32px;\n",
       "      padding: 0 0 0 0;\n",
       "      width: 32px;\n",
       "    }\n",
       "\n",
       "    .colab-df-convert:hover {\n",
       "      background-color: #E2EBFA;\n",
       "      box-shadow: 0px 1px 2px rgba(60, 64, 67, 0.3), 0px 1px 3px 1px rgba(60, 64, 67, 0.15);\n",
       "      fill: #174EA6;\n",
       "    }\n",
       "\n",
       "    [theme=dark] .colab-df-convert {\n",
       "      background-color: #3B4455;\n",
       "      fill: #D2E3FC;\n",
       "    }\n",
       "\n",
       "    [theme=dark] .colab-df-convert:hover {\n",
       "      background-color: #434B5C;\n",
       "      box-shadow: 0px 1px 3px 1px rgba(0, 0, 0, 0.15);\n",
       "      filter: drop-shadow(0px 1px 2px rgba(0, 0, 0, 0.3));\n",
       "      fill: #FFFFFF;\n",
       "    }\n",
       "  </style>\n",
       "\n",
       "      <script>\n",
       "        const buttonEl =\n",
       "          document.querySelector('#df-7f63a5b9-cfe7-4970-8753-ec6aa44e50dc button.colab-df-convert');\n",
       "        buttonEl.style.display =\n",
       "          google.colab.kernel.accessAllowed ? 'block' : 'none';\n",
       "\n",
       "        async function convertToInteractive(key) {\n",
       "          const element = document.querySelector('#df-7f63a5b9-cfe7-4970-8753-ec6aa44e50dc');\n",
       "          const dataTable =\n",
       "            await google.colab.kernel.invokeFunction('convertToInteractive',\n",
       "                                                     [key], {});\n",
       "          if (!dataTable) return;\n",
       "\n",
       "          const docLinkHtml = 'Like what you see? Visit the ' +\n",
       "            '<a target=\"_blank\" href=https://colab.research.google.com/notebooks/data_table.ipynb>data table notebook</a>'\n",
       "            + ' to learn more about interactive tables.';\n",
       "          element.innerHTML = '';\n",
       "          dataTable['output_type'] = 'display_data';\n",
       "          await google.colab.output.renderOutput(dataTable, element);\n",
       "          const docLink = document.createElement('div');\n",
       "          docLink.innerHTML = docLinkHtml;\n",
       "          element.appendChild(docLink);\n",
       "        }\n",
       "      </script>\n",
       "    </div>\n",
       "  </div>\n",
       "  "
      ],
      "text/plain": [
       "         avg_count  play_freq\n",
       "song_id                      \n",
       "21        1.635714        280\n",
       "22        1.454545        143\n",
       "50        1.618182        110\n",
       "52        1.719565        460\n",
       "62        1.731707        123"
      ]
     },
     "execution_count": 24,
     "metadata": {},
     "output_type": "execute_result"
    }
   ],
   "source": [
    "#Making a dataframe with the average_count and play_freq\n",
    "final_play = pd.DataFrame({'avg_count':average_count, 'play_freq':play_freq})\n",
    "final_play.head()"
   ]
  },
  {
   "cell_type": "markdown",
   "metadata": {
    "id": "lxWpuMEnRY-A"
   },
   "source": [
    "Now, let's create a function to find the top n songs for a recommendation based on the average play count of song. We can also add a threshold for a minimum number of playcounts for a song to be considered for recommendation."
   ]
  },
  {
   "cell_type": "code",
   "execution_count": null,
   "metadata": {
    "id": "NWpYM9LeRZeg"
   },
   "outputs": [],
   "source": [
    "#Build the function for finding top n songs\n",
    "\n",
    "def top_n_songs(data, n, min_interaction = 100):\n",
    "\n",
    "  # Finding song with minimum number of interactions\n",
    "  recommendations = data[data['play_freq'] > min_interaction]\n",
    "\n",
    "  # Sorting values with respect to average counts\n",
    "  recommendations = recommendations.sort_values(by = 'avg_count', ascending = False)\n",
    "  return recommendations.index[:n]"
   ]
  },
  {
   "cell_type": "code",
   "execution_count": null,
   "metadata": {
    "colab": {
     "base_uri": "https://localhost:8080/"
    },
    "id": "3xCCHaKQSyVD",
    "outputId": "4e020145-6ca5-4f1a-f10f-2f4aaadbcf01"
   },
   "outputs": [
    {
     "data": {
      "text/plain": [
       "[7224, 8324, 6450, 9942, 5531, 8483, 657, 5653, 614, 2220]"
      ]
     },
     "execution_count": 26,
     "metadata": {},
     "output_type": "execute_result"
    }
   ],
   "source": [
    "#Recommend top 10 songs using the function defined above\n",
    "\n",
    "list(top_n_songs(final_play, 10, 100))"
   ]
  },
  {
   "cell_type": "markdown",
   "metadata": {
    "id": "oBziTw9ISMao"
   },
   "source": [
    "### User User Similarity-Based Collaborative Filtering"
   ]
  },
  {
   "cell_type": "markdown",
   "metadata": {
    "id": "AvKLBOvzSVPO"
   },
   "source": [
    "To build the user-user-similarity based and subsequent models we will use the \"surprise\" library."
   ]
  },
  {
   "cell_type": "code",
   "execution_count": null,
   "metadata": {
    "colab": {
     "base_uri": "https://localhost:8080/"
    },
    "id": "L82xIdDpSzke",
    "outputId": "e90cd520-30a9-4b0b-fc6d-c0b92df0cc69"
   },
   "outputs": [
    {
     "name": "stdout",
     "output_type": "stream",
     "text": [
      "Looking in indexes: https://pypi.org/simple, https://us-python.pkg.dev/colab-wheels/public/simple/\n",
      "Collecting surprise\n",
      "  Downloading surprise-0.1-py2.py3-none-any.whl (1.8 kB)\n",
      "Collecting scikit-surprise\n",
      "  Downloading scikit-surprise-1.1.1.tar.gz (11.8 MB)\n",
      "\u001b[K     |████████████████████████████████| 11.8 MB 3.7 MB/s \n",
      "\u001b[?25hRequirement already satisfied: joblib>=0.11 in /usr/local/lib/python3.7/dist-packages (from scikit-surprise->surprise) (1.1.0)\n",
      "Requirement already satisfied: numpy>=1.11.2 in /usr/local/lib/python3.7/dist-packages (from scikit-surprise->surprise) (1.21.6)\n",
      "Requirement already satisfied: scipy>=1.0.0 in /usr/local/lib/python3.7/dist-packages (from scikit-surprise->surprise) (1.4.1)\n",
      "Requirement already satisfied: six>=1.10.0 in /usr/local/lib/python3.7/dist-packages (from scikit-surprise->surprise) (1.15.0)\n",
      "Building wheels for collected packages: scikit-surprise\n",
      "  Building wheel for scikit-surprise (setup.py) ... \u001b[?25l\u001b[?25hdone\n",
      "  Created wheel for scikit-surprise: filename=scikit_surprise-1.1.1-cp37-cp37m-linux_x86_64.whl size=1633722 sha256=5ec62eb4f0e043913410a79cb7699f14f457536c6118a1043a33b7eb33f0b848\n",
      "  Stored in directory: /root/.cache/pip/wheels/76/44/74/b498c42be47b2406bd27994e16c5188e337c657025ab400c1c\n",
      "Successfully built scikit-surprise\n",
      "Installing collected packages: scikit-surprise, surprise\n",
      "Successfully installed scikit-surprise-1.1.1 surprise-0.1\n"
     ]
    }
   ],
   "source": [
    "#Install the surprise package using pip. Uncomment and run the below code to do the same. \n",
    "!pip install surprise "
   ]
  },
  {
   "cell_type": "code",
   "execution_count": null,
   "metadata": {
    "id": "E2AGhT-XS1yK"
   },
   "outputs": [],
   "source": [
    "# Import necessary libraries\n",
    "# To compute the accuracy of models\n",
    "from surprise import accuracy\n",
    "\n",
    "# class is used to parse a file containing play_counts, data should be in structure - user; item ; play_count\n",
    "from surprise.reader import Reader\n",
    "\n",
    "# class for loading datasets\n",
    "from surprise.dataset import Dataset\n",
    "\n",
    "# for tuning model hyperparameters\n",
    "from surprise.model_selection import GridSearchCV\n",
    "\n",
    "# for splitting the data in train and test dataset\n",
    "from surprise.model_selection import train_test_split\n",
    "\n",
    "# for implementing similarity-based recommendation system\n",
    "from surprise.prediction_algorithms.knns import KNNBasic\n",
    "\n",
    "# for implementing matrix factorization based recommendation system\n",
    "from surprise.prediction_algorithms.matrix_factorization import SVD\n",
    "\n",
    "# for implementing KFold cross-validation\n",
    "from surprise.model_selection import KFold\n",
    "\n",
    "#For implementing clustering-based recommendation system\n",
    "from surprise import CoClustering"
   ]
  },
  {
   "cell_type": "markdown",
   "metadata": {
    "id": "-RTh45a8TDem"
   },
   "source": [
    "#### Some useful functions"
   ]
  },
  {
   "cell_type": "markdown",
   "metadata": {
    "id": "vKY5jDluTGIg"
   },
   "source": [
    "The below is the function to calculate precision@k and recall@k, RMSE and F1_Score@k to evaluate the model performance."
   ]
  },
  {
   "cell_type": "markdown",
   "metadata": {
    "id": "1wGf52yFTGQr"
   },
   "source": [
    "**Think About It:** Which metric should be used for this problem to compare different models?"
   ]
  },
  {
   "cell_type": "code",
   "execution_count": null,
   "metadata": {
    "id": "P99RN7V7TJ4q"
   },
   "outputs": [],
   "source": [
    "#The function to calulate the RMSE, precision@k, recall@k and F_1 score. \n",
    "def precision_recall_at_k(model, k=30, threshold=1.5):\n",
    "    \"\"\"Return precision and recall at k metrics for each user\"\"\"\n",
    "\n",
    "    # First map the predictions to each user.\n",
    "    user_est_true = defaultdict(list)\n",
    "    \n",
    "    #Making predictions on the test data\n",
    "    predictions=model.test(testset)\n",
    "    \n",
    "    for uid, _, true_r, est, _ in predictions:\n",
    "        user_est_true[uid].append((est, true_r))\n",
    "\n",
    "    precisions = dict()\n",
    "    recalls = dict()\n",
    "    for uid, user_ratings in user_est_true.items():\n",
    "\n",
    "        # Sort user ratings by estimated value\n",
    "        user_ratings.sort(key=lambda x: x[0], reverse=True)\n",
    "\n",
    "        # Number of relevant items\n",
    "        n_rel = sum((true_r >= threshold) for (_, true_r) in user_ratings)\n",
    "\n",
    "        # Number of recommended items in top k\n",
    "        n_rec_k = sum((est >= threshold) for (est, _) in user_ratings[:k])\n",
    "\n",
    "        # Number of relevant and recommended items in top k\n",
    "        n_rel_and_rec_k = sum(((true_r >= threshold) and (est >= threshold))\n",
    "                              for (est, true_r) in user_ratings[:k])\n",
    "\n",
    "        # Precision@K: Proportion of recommended items that are relevant\n",
    "        # When n_rec_k is 0, Precision is undefined. We here set Precision to 0 when n_rec_k is 0.\n",
    "\n",
    "        precisions[uid] = n_rel_and_rec_k / n_rec_k if n_rec_k != 0 else 0\n",
    "\n",
    "        # Recall@K: Proportion of relevant items that are recommended\n",
    "        # When n_rel is 0, Recall is undefined. We here set Recall to 0 when n_rel is 0.\n",
    "\n",
    "        recalls[uid] = n_rel_and_rec_k / n_rel if n_rel != 0 else 0\n",
    "    \n",
    "    #Mean of all the predicted precisions are calculated.\n",
    "    precision = round((sum(prec for prec in precisions.values()) / len(precisions)),3)\n",
    "    #Mean of all the predicted recalls are calculated.\n",
    "    recall = round((sum(rec for rec in recalls.values()) / len(recalls)),3)\n",
    "    \n",
    "    accuracy.rmse(predictions)\n",
    "    print('Precision: ', precision) #Command to print the overall precision\n",
    "    print('Recall: ', recall) #Command to print the overall recall\n",
    "    print('F_1 score: ', round((2*precision*recall)/(precision+recall),3)) # Formula to compute the F-1 score."
   ]
  },
  {
   "cell_type": "markdown",
   "metadata": {
    "id": "rbeI_WEwTRE6"
   },
   "source": [
    "**Think About It:** In the function precision_recall_at_k above the threshold value used is 1.5. How precision and recall are affected by chaning the threshold? What is the intuition behind using the threshold value 1.5? "
   ]
  },
  {
   "cell_type": "code",
   "execution_count": null,
   "metadata": {
    "id": "PZQG9c1WTTpu"
   },
   "outputs": [],
   "source": [
    "# Instantiating Reader scale with expected rating scale \n",
    "reader = Reader(rating_scale=(0,5)) #use rating scale (0,5)\n",
    "\n",
    "# loading the dataset\n",
    "data = Dataset.load_from_df(df_final[[\"user_id\", \"song_id\", \"play_count\"]], reader) #Take only \"user_id\",\"song_id\", and \"play_count\"\n",
    "\n",
    "# splitting the data into train and test dataset\n",
    "trainset, testset = train_test_split(data, test_size= 0.4, random_state=42) # Take test_size=0.4"
   ]
  },
  {
   "cell_type": "markdown",
   "metadata": {
    "id": "JCu7RanzUiBp"
   },
   "source": [
    "**Think About It:** How changing the test size would change the results and outputs?"
   ]
  },
  {
   "cell_type": "code",
   "execution_count": null,
   "metadata": {
    "colab": {
     "base_uri": "https://localhost:8080/"
    },
    "id": "dbV5WpVXUilu",
    "outputId": "9dc0ccd3-c8ec-4664-c399-b047633bda9b"
   },
   "outputs": [
    {
     "name": "stdout",
     "output_type": "stream",
     "text": [
      "RMSE: 1.0611\n",
      "Precision:  0.405\n",
      "Recall:  0.711\n",
      "F_1 score:  0.516\n"
     ]
    }
   ],
   "source": [
    "#Build the default user-user-similarity model\n",
    "sim_options = {'name': 'cosine',\n",
    "               'user_based': True}\n",
    "\n",
    "#KNN algorithm is used to find desired similar items.\n",
    "sim_user_user = KNNBasic(sim_options = sim_options, verbose = False, random_state = 1) #use random_state=1 \n",
    "\n",
    "# Train the algorithm on the trainset, and predict play_count for the testset\n",
    "sim_user_user.fit(trainset)\n",
    "\n",
    "# Let us compute precision@k, recall@k, and f_1 score with k =30.\n",
    "precision_recall_at_k(sim_user_user) #Use sim_user_user model"
   ]
  },
  {
   "cell_type": "markdown",
   "metadata": {
    "id": "ernNFkM-Uo3F"
   },
   "source": [
    "**Observations and Insights:**\n",
    "\n",
    "- The model isn't performing well because the precision, recall, and F_1 scores are all lower. Hypertuning the parameter we should be able to increase these."
   ]
  },
  {
   "cell_type": "code",
   "execution_count": null,
   "metadata": {
    "colab": {
     "base_uri": "https://localhost:8080/"
    },
    "id": "CmlsYkMJUqod",
    "outputId": "c0476d30-1e59-49f8-da6c-130a29721927"
   },
   "outputs": [
    {
     "name": "stdout",
     "output_type": "stream",
     "text": [
      "user: 6958       item: 1671       r_ui = 2.00   est = 1.83   {'actual_k': 40, 'was_impossible': False}\n"
     ]
    },
    {
     "data": {
      "text/plain": [
       "Prediction(uid=6958, iid=1671, r_ui=2, est=1.8256312668335963, details={'actual_k': 40, 'was_impossible': False})"
      ]
     },
     "execution_count": 100,
     "metadata": {},
     "output_type": "execute_result"
    }
   ],
   "source": [
    "#predicting play_count for a sample user with a listened song.\n",
    "sim_user_user.predict(6958, 1671, r_ui=2, verbose=True) #use user id 6958 and song_id 1671"
   ]
  },
  {
   "cell_type": "code",
   "execution_count": null,
   "metadata": {
    "colab": {
     "base_uri": "https://localhost:8080/"
    },
    "id": "LyXka8Y_UtOH",
    "outputId": "5d7bd8b8-3d3d-44de-881d-5ab779c74bc0"
   },
   "outputs": [
    {
     "name": "stdout",
     "output_type": "stream",
     "text": [
      "user: 6958       item: 3232       r_ui = None   est = 1.61   {'actual_k': 33, 'was_impossible': False}\n"
     ]
    },
    {
     "data": {
      "text/plain": [
       "Prediction(uid=6958, iid=3232, r_ui=None, est=1.6118677152959722, details={'actual_k': 33, 'was_impossible': False})"
      ]
     },
     "execution_count": 101,
     "metadata": {},
     "output_type": "execute_result"
    }
   ],
   "source": [
    "#predicting play_count for a sample user with a song not-listened by the user.\n",
    "sim_user_user.predict(6958,3232, verbose=True) #Use user_id 6958 and song_id 3232"
   ]
  },
  {
   "cell_type": "markdown",
   "metadata": {
    "id": "uTUhF07biKJ2"
   },
   "source": [
    "**Observations and Insights:**\n",
    "\n",
    "- The estiimation is 1.61 and r_ui is 2 which is a significant difference for song 3232\n",
    "- Acutal_k for song 1671 is higher than song 3232\n",
    "- Tuning the hyper parameter might be able to increase these values"
   ]
  },
  {
   "cell_type": "markdown",
   "metadata": {
    "id": "iQwwurzyiM-D"
   },
   "source": [
    "Now, let's try to tune the model and see if we can improve the model performance."
   ]
  },
  {
   "cell_type": "code",
   "execution_count": null,
   "metadata": {
    "colab": {
     "base_uri": "https://localhost:8080/"
    },
    "id": "YEElMEKCiOwn",
    "outputId": "c37928ed-fe62-4cc3-f059-84cc409ea2ac"
   },
   "outputs": [
    {
     "name": "stdout",
     "output_type": "stream",
     "text": [
      "0.9774595234041422\n",
      "{'k': 30, 'min_k': 9, 'sim_options': {'name': 'pearson_baseline', 'user_based': True, 'min_support': 2}}\n"
     ]
    }
   ],
   "source": [
    "# setting up parameter grid to tune the hyperparameters\n",
    "param_grid = {'k': [10, 20, 30], 'min_k': [3, 6, 9],\n",
    "              'sim_options': {'name': [\"cosine\",'pearson',\"pearson_baseline\"],\n",
    "                              'user_based': [True], \"min_support\":[2,4]}\n",
    "              }\n",
    "\n",
    "# performing 3-fold cross validation to tune the hyperparameters\n",
    "gs = GridSearchCV(KNNBasic, param_grid, measures = ['rmse'], cv = 3, n_jobs = -1)\n",
    "\n",
    "# fitting the data\n",
    "gs.fit(data) #Use entire data for GridSearch\n",
    "\n",
    "# best RMSE score\n",
    "print(gs.best_score['rmse'])\n",
    "\n",
    "# combination of parameters that gave the best RMSE score\n",
    "print(gs.best_params['rmse'])\n"
   ]
  },
  {
   "cell_type": "code",
   "execution_count": null,
   "metadata": {
    "colab": {
     "base_uri": "https://localhost:8080/"
    },
    "id": "Zug2iQAGiSOO",
    "outputId": "6cc19537-fc99-4697-b6bd-b137c3567db4"
   },
   "outputs": [
    {
     "name": "stdout",
     "output_type": "stream",
     "text": [
      "RMSE: 0.9831\n",
      "Precision:  0.452\n",
      "Recall:  0.744\n",
      "F_1 score:  0.562\n"
     ]
    }
   ],
   "source": [
    "# Train the best model found in above gridsearch.\n",
    "sim_options = {'name': 'pearson_baseline',\n",
    "               'user_based': True}\n",
    "\n",
    "# Creating an instance of KNNBasic with optimal hyperparameter values\n",
    "sim_user_user_optimized = KNNBasic(sim_options = sim_options, k = 30, min_k = 9, random_state = 1, verbose = False)\n",
    "\n",
    "# Training the algorithm on the trainset\n",
    "sim_user_user_optimized.fit(trainset)\n",
    "\n",
    "# Let us compute precision@k and recall@k also with k = 10\n",
    "precision_recall_at_k(sim_user_user_optimized)"
   ]
  },
  {
   "cell_type": "markdown",
   "metadata": {
    "id": "kLaxEPauiTvX"
   },
   "source": [
    "**Observations and Insights:**\n",
    "\n",
    "- We used four different techniques to tune the hyper parameter :\n",
    "\n",
    " - **cosine**  -\n",
    "  RMSE: 1.0668\n",
    "Precision:  0.402\n",
    "Recall:  0.691\n",
    "F_1 score:  0.508\n",
    "\n",
    " - **msd** - \n",
    " RMSE: 0.9946\n",
    "Precision:  0.453\n",
    "Recall:  0.63\n",
    "F_1 score:  0.527\n",
    "\n",
    " - **pearson** - \n",
    " RMSE: 1.0264\n",
    "Precision:  0.416\n",
    "Recall:  0.818\n",
    "F_1 score:  0.552\n",
    "\n",
    " - **pearson_baseline** - \n",
    " RMSE: 0.9831\n",
    "Precision:  0.452\n",
    "Recall:  0.744\n",
    "F_1 score:  0.562\n",
    "\n",
    "- Based on the model results, we can conclude that pearson_baseline the best out of all other techniques with the highest precision and F_1 score."
   ]
  },
  {
   "cell_type": "code",
   "execution_count": null,
   "metadata": {
    "colab": {
     "base_uri": "https://localhost:8080/"
    },
    "id": "PjyM_xXsiVRk",
    "outputId": "b101f736-88b5-4af4-8206-fbffb79a7c91"
   },
   "outputs": [
    {
     "name": "stdout",
     "output_type": "stream",
     "text": [
      "user: 6958       item: 1671       r_ui = 2.00   est = 1.97   {'actual_k': 27, 'was_impossible': False}\n"
     ]
    },
    {
     "data": {
      "text/plain": [
       "Prediction(uid=6958, iid=1671, r_ui=2, est=1.9674556802913845, details={'actual_k': 27, 'was_impossible': False})"
      ]
     },
     "execution_count": 98,
     "metadata": {},
     "output_type": "execute_result"
    }
   ],
   "source": [
    "#Predict the play count for a user who has listened to the song. Take user_id 6958, song_id 1671 and r_ui=2\n",
    "sim_user_user_optimized.predict(6958, 1671, r_ui = 2, verbose = True)"
   ]
  },
  {
   "cell_type": "code",
   "execution_count": null,
   "metadata": {
    "colab": {
     "base_uri": "https://localhost:8080/"
    },
    "id": "lIXqtailiXMF",
    "outputId": "3e377110-7586-40af-fc9d-04198959d2eb"
   },
   "outputs": [
    {
     "name": "stdout",
     "output_type": "stream",
     "text": [
      "user: 6958       item: 3232       r_ui = None   est = 1.86   {'actual_k': 10, 'was_impossible': False}\n"
     ]
    },
    {
     "data": {
      "text/plain": [
       "Prediction(uid=6958, iid=3232, r_ui=None, est=1.8558648047903226, details={'actual_k': 10, 'was_impossible': False})"
      ]
     },
     "execution_count": 99,
     "metadata": {},
     "output_type": "execute_result"
    }
   ],
   "source": [
    "#Predict the play count for a song that is not listened by the user (with user_id 6958)\n",
    "sim_user_user_optimized.predict(6958, 3232, verbose = True)"
   ]
  },
  {
   "cell_type": "markdown",
   "metadata": {
    "id": "uw4KpRxWGuVE"
   },
   "source": [
    "**Observations and Insights:**\n",
    "\n",
    "- We do see an increase in the estimated value and acutal_k for the hypertuned model.\n",
    "- Song 1671 est is closer to r_ui compared to the base model"
   ]
  },
  {
   "cell_type": "markdown",
   "metadata": {
    "id": "dJ8d3uSEGyBs"
   },
   "source": [
    "**Think About It:** Along with making predictions on listened and unknown songs can we get 5 nearest neighbors (most similar) to a certain user?"
   ]
  },
  {
   "cell_type": "code",
   "execution_count": null,
   "metadata": {
    "colab": {
     "base_uri": "https://localhost:8080/"
    },
    "id": "gmmffqYaGwUB",
    "outputId": "988a9c12-58b7-400a-8997-e7dce16b4a9b"
   },
   "outputs": [
    {
     "data": {
      "text/plain": [
       "[907, 576, 1667, 2590, 996]"
      ]
     },
     "execution_count": 38,
     "metadata": {},
     "output_type": "execute_result"
    }
   ],
   "source": [
    "#Use inner id 0. \n",
    "\n",
    "sim_user_user_optimized.get_neighbors(0, 5)"
   ]
  },
  {
   "cell_type": "markdown",
   "metadata": {
    "id": "hKr-5xn8G2dk"
   },
   "source": [
    "Below we will be implementing a function where the input parameters are -\n",
    "\n",
    "- data: a song dataset\n",
    "- user_id: a user id against which we want the recommendations\n",
    "- top_n: the number of songs we want to recommend\n",
    "- algo: the algorithm we want to use for predicting the play_count\n",
    "- The output of the function is a set of top_n items recommended for the given user_id based on the given algorithm"
   ]
  },
  {
   "cell_type": "code",
   "execution_count": null,
   "metadata": {
    "id": "51bxtp4OG8iF"
   },
   "outputs": [],
   "source": [
    "def get_recommendations(data, user_id, top_n, algo):\n",
    "    \n",
    "    # creating an empty list to store the recommended product ids\n",
    "    recommendations = []\n",
    "    \n",
    "    # creating an user item interactions matrix \n",
    "    user_item_interactions_matrix = data.pivot_table(index = 'user_id', columns = 'song_id', values = 'play_count')\n",
    "    \n",
    "    # extracting those business ids which the user_id has not visited yet\n",
    "    non_interacted_products = user_item_interactions_matrix.loc[user_id][user_item_interactions_matrix.loc[user_id].isnull()].index.tolist()\n",
    "    \n",
    "    # looping through each of the business ids which user_id has not interacted yet\n",
    "    for item_id in non_interacted_products:\n",
    "        \n",
    "        # predicting the ratings for those non visited restaurant ids by this user\n",
    "        est = algo.predict(user_id, item_id).est\n",
    "        \n",
    "        # appending the predicted ratings\n",
    "        recommendations.append((item_id, est))\n",
    "\n",
    "    # sorting the predicted ratings in descending order\n",
    "    recommendations.sort(key=lambda x: x[1], reverse=True)\n",
    "\n",
    "    return recommendations[:top_n] # returing top n highest predicted rating products for this user"
   ]
  },
  {
   "cell_type": "code",
   "execution_count": null,
   "metadata": {
    "id": "VRuWGoKcHAq7"
   },
   "outputs": [],
   "source": [
    "#Make top 5 recommendations for user_id 6958 with a similarity-based recommendation engine.\n",
    "recommendations = get_recommendations(df_final, 6958, 5, sim_user_user)"
   ]
  },
  {
   "cell_type": "code",
   "execution_count": null,
   "metadata": {
    "colab": {
     "base_uri": "https://localhost:8080/",
     "height": 204
    },
    "id": "b8tR7FRAHCGj",
    "outputId": "9269799c-2a01-4443-a51d-7b520a46a744"
   },
   "outputs": [
    {
     "data": {
      "text/html": [
       "\n",
       "  <div id=\"df-1768f117-5273-43f5-885f-99854be78eb6\">\n",
       "    <div class=\"colab-df-container\">\n",
       "      <div>\n",
       "<style scoped>\n",
       "    .dataframe tbody tr th:only-of-type {\n",
       "        vertical-align: middle;\n",
       "    }\n",
       "\n",
       "    .dataframe tbody tr th {\n",
       "        vertical-align: top;\n",
       "    }\n",
       "\n",
       "    .dataframe thead th {\n",
       "        text-align: right;\n",
       "    }\n",
       "</style>\n",
       "<table border=\"1\" class=\"dataframe\">\n",
       "  <thead>\n",
       "    <tr style=\"text-align: right;\">\n",
       "      <th></th>\n",
       "      <th>song_id</th>\n",
       "      <th>predicted_ratings</th>\n",
       "    </tr>\n",
       "  </thead>\n",
       "  <tbody>\n",
       "    <tr>\n",
       "      <th>0</th>\n",
       "      <td>7224</td>\n",
       "      <td>3.666771</td>\n",
       "    </tr>\n",
       "    <tr>\n",
       "      <th>1</th>\n",
       "      <td>6450</td>\n",
       "      <td>3.173413</td>\n",
       "    </tr>\n",
       "    <tr>\n",
       "      <th>2</th>\n",
       "      <td>8324</td>\n",
       "      <td>3.006556</td>\n",
       "    </tr>\n",
       "    <tr>\n",
       "      <th>3</th>\n",
       "      <td>8483</td>\n",
       "      <td>2.692783</td>\n",
       "    </tr>\n",
       "    <tr>\n",
       "      <th>4</th>\n",
       "      <td>8863</td>\n",
       "      <td>2.433057</td>\n",
       "    </tr>\n",
       "  </tbody>\n",
       "</table>\n",
       "</div>\n",
       "      <button class=\"colab-df-convert\" onclick=\"convertToInteractive('df-1768f117-5273-43f5-885f-99854be78eb6')\"\n",
       "              title=\"Convert this dataframe to an interactive table.\"\n",
       "              style=\"display:none;\">\n",
       "        \n",
       "  <svg xmlns=\"http://www.w3.org/2000/svg\" height=\"24px\"viewBox=\"0 0 24 24\"\n",
       "       width=\"24px\">\n",
       "    <path d=\"M0 0h24v24H0V0z\" fill=\"none\"/>\n",
       "    <path d=\"M18.56 5.44l.94 2.06.94-2.06 2.06-.94-2.06-.94-.94-2.06-.94 2.06-2.06.94zm-11 1L8.5 8.5l.94-2.06 2.06-.94-2.06-.94L8.5 2.5l-.94 2.06-2.06.94zm10 10l.94 2.06.94-2.06 2.06-.94-2.06-.94-.94-2.06-.94 2.06-2.06.94z\"/><path d=\"M17.41 7.96l-1.37-1.37c-.4-.4-.92-.59-1.43-.59-.52 0-1.04.2-1.43.59L10.3 9.45l-7.72 7.72c-.78.78-.78 2.05 0 2.83L4 21.41c.39.39.9.59 1.41.59.51 0 1.02-.2 1.41-.59l7.78-7.78 2.81-2.81c.8-.78.8-2.07 0-2.86zM5.41 20L4 18.59l7.72-7.72 1.47 1.35L5.41 20z\"/>\n",
       "  </svg>\n",
       "      </button>\n",
       "      \n",
       "  <style>\n",
       "    .colab-df-container {\n",
       "      display:flex;\n",
       "      flex-wrap:wrap;\n",
       "      gap: 12px;\n",
       "    }\n",
       "\n",
       "    .colab-df-convert {\n",
       "      background-color: #E8F0FE;\n",
       "      border: none;\n",
       "      border-radius: 50%;\n",
       "      cursor: pointer;\n",
       "      display: none;\n",
       "      fill: #1967D2;\n",
       "      height: 32px;\n",
       "      padding: 0 0 0 0;\n",
       "      width: 32px;\n",
       "    }\n",
       "\n",
       "    .colab-df-convert:hover {\n",
       "      background-color: #E2EBFA;\n",
       "      box-shadow: 0px 1px 2px rgba(60, 64, 67, 0.3), 0px 1px 3px 1px rgba(60, 64, 67, 0.15);\n",
       "      fill: #174EA6;\n",
       "    }\n",
       "\n",
       "    [theme=dark] .colab-df-convert {\n",
       "      background-color: #3B4455;\n",
       "      fill: #D2E3FC;\n",
       "    }\n",
       "\n",
       "    [theme=dark] .colab-df-convert:hover {\n",
       "      background-color: #434B5C;\n",
       "      box-shadow: 0px 1px 3px 1px rgba(0, 0, 0, 0.15);\n",
       "      filter: drop-shadow(0px 1px 2px rgba(0, 0, 0, 0.3));\n",
       "      fill: #FFFFFF;\n",
       "    }\n",
       "  </style>\n",
       "\n",
       "      <script>\n",
       "        const buttonEl =\n",
       "          document.querySelector('#df-1768f117-5273-43f5-885f-99854be78eb6 button.colab-df-convert');\n",
       "        buttonEl.style.display =\n",
       "          google.colab.kernel.accessAllowed ? 'block' : 'none';\n",
       "\n",
       "        async function convertToInteractive(key) {\n",
       "          const element = document.querySelector('#df-1768f117-5273-43f5-885f-99854be78eb6');\n",
       "          const dataTable =\n",
       "            await google.colab.kernel.invokeFunction('convertToInteractive',\n",
       "                                                     [key], {});\n",
       "          if (!dataTable) return;\n",
       "\n",
       "          const docLinkHtml = 'Like what you see? Visit the ' +\n",
       "            '<a target=\"_blank\" href=https://colab.research.google.com/notebooks/data_table.ipynb>data table notebook</a>'\n",
       "            + ' to learn more about interactive tables.';\n",
       "          element.innerHTML = '';\n",
       "          dataTable['output_type'] = 'display_data';\n",
       "          await google.colab.output.renderOutput(dataTable, element);\n",
       "          const docLink = document.createElement('div');\n",
       "          docLink.innerHTML = docLinkHtml;\n",
       "          element.appendChild(docLink);\n",
       "        }\n",
       "      </script>\n",
       "    </div>\n",
       "  </div>\n",
       "  "
      ],
      "text/plain": [
       "   song_id  predicted_ratings\n",
       "0     7224           3.666771\n",
       "1     6450           3.173413\n",
       "2     8324           3.006556\n",
       "3     8483           2.692783\n",
       "4     8863           2.433057"
      ]
     },
     "execution_count": 104,
     "metadata": {},
     "output_type": "execute_result"
    }
   ],
   "source": [
    "#Building the dataframe for above recommendations with columns \"song_id\" and \"predicted_ratings\"\n",
    "pd.DataFrame(recommendations, columns = ['song_id', 'predicted_ratings'])"
   ]
  },
  {
   "cell_type": "markdown",
   "metadata": {
    "id": "ByEb1sUlHEGK"
   },
   "source": [
    "**Observations and Insights:**\n",
    "- The above table are the recommendations for previous executed model\n",
    "- We do not see the play_count in the table so we should correct that"
   ]
  },
  {
   "cell_type": "markdown",
   "metadata": {
    "id": "aIUCFMSpHPj-"
   },
   "source": [
    "#### **Correcting the play_counts and Ranking the above songs**"
   ]
  },
  {
   "cell_type": "code",
   "execution_count": null,
   "metadata": {
    "id": "WB6bhOV3HG9W"
   },
   "outputs": [],
   "source": [
    "def ranking_songs(recommendations, final_rating):\n",
    "  # sort the songs based on play counts\n",
    "  ranked_songs = final_rating.loc[[items[0] for items in recommendations]].sort_values('play_freq', ascending=False)[['play_freq']].reset_index()\n",
    "\n",
    "  # merge with the recommended songs to get predicted play_count\n",
    "  ranked_songs = ranked_songs.merge(pd.DataFrame(recommendations, columns=['song_id', 'predicted_ratings']), on='song_id', how='inner')\n",
    "\n",
    "  # rank the songs based on corrected play_counts\n",
    "  ranked_songs['corrected_ratings'] = ranked_songs['predicted_ratings'] - 1 / np.sqrt(ranked_songs['play_freq'])\n",
    "\n",
    "  # sort the songs based on corrected play_counts\n",
    "  ranked_songs = ranked_songs.sort_values('corrected_ratings', ascending = False)\n",
    "  \n",
    "  return ranked_songs"
   ]
  },
  {
   "cell_type": "markdown",
   "metadata": {
    "id": "mGSugjS8HWKJ"
   },
   "source": [
    "**Think About It:** In the above function to make the correction in the predicted play_count a quantity 1/np.sqrt(n) is subtracted. What is the intuition behind it? Is it also possible to add this quantity instead of subtracting?"
   ]
  },
  {
   "cell_type": "code",
   "execution_count": null,
   "metadata": {
    "colab": {
     "base_uri": "https://localhost:8080/",
     "height": 204
    },
    "id": "Cyk2x4QmHXu_",
    "outputId": "6554d350-f87e-42d7-f017-cb4a3c2b659d"
   },
   "outputs": [
    {
     "data": {
      "text/html": [
       "\n",
       "  <div id=\"df-2d44ad31-1b12-4238-b343-850a52266ef2\">\n",
       "    <div class=\"colab-df-container\">\n",
       "      <div>\n",
       "<style scoped>\n",
       "    .dataframe tbody tr th:only-of-type {\n",
       "        vertical-align: middle;\n",
       "    }\n",
       "\n",
       "    .dataframe tbody tr th {\n",
       "        vertical-align: top;\n",
       "    }\n",
       "\n",
       "    .dataframe thead th {\n",
       "        text-align: right;\n",
       "    }\n",
       "</style>\n",
       "<table border=\"1\" class=\"dataframe\">\n",
       "  <thead>\n",
       "    <tr style=\"text-align: right;\">\n",
       "      <th></th>\n",
       "      <th>song_id</th>\n",
       "      <th>play_freq</th>\n",
       "      <th>predicted_ratings</th>\n",
       "      <th>corrected_ratings</th>\n",
       "    </tr>\n",
       "  </thead>\n",
       "  <tbody>\n",
       "    <tr>\n",
       "      <th>3</th>\n",
       "      <td>7224</td>\n",
       "      <td>111</td>\n",
       "      <td>3.666771</td>\n",
       "      <td>3.571856</td>\n",
       "    </tr>\n",
       "    <tr>\n",
       "      <th>2</th>\n",
       "      <td>6450</td>\n",
       "      <td>115</td>\n",
       "      <td>3.173413</td>\n",
       "      <td>3.080163</td>\n",
       "    </tr>\n",
       "    <tr>\n",
       "      <th>4</th>\n",
       "      <td>8324</td>\n",
       "      <td>103</td>\n",
       "      <td>3.006556</td>\n",
       "      <td>2.908023</td>\n",
       "    </tr>\n",
       "    <tr>\n",
       "      <th>0</th>\n",
       "      <td>8483</td>\n",
       "      <td>132</td>\n",
       "      <td>2.692783</td>\n",
       "      <td>2.605745</td>\n",
       "    </tr>\n",
       "    <tr>\n",
       "      <th>1</th>\n",
       "      <td>8863</td>\n",
       "      <td>124</td>\n",
       "      <td>2.433057</td>\n",
       "      <td>2.343254</td>\n",
       "    </tr>\n",
       "  </tbody>\n",
       "</table>\n",
       "</div>\n",
       "      <button class=\"colab-df-convert\" onclick=\"convertToInteractive('df-2d44ad31-1b12-4238-b343-850a52266ef2')\"\n",
       "              title=\"Convert this dataframe to an interactive table.\"\n",
       "              style=\"display:none;\">\n",
       "        \n",
       "  <svg xmlns=\"http://www.w3.org/2000/svg\" height=\"24px\"viewBox=\"0 0 24 24\"\n",
       "       width=\"24px\">\n",
       "    <path d=\"M0 0h24v24H0V0z\" fill=\"none\"/>\n",
       "    <path d=\"M18.56 5.44l.94 2.06.94-2.06 2.06-.94-2.06-.94-.94-2.06-.94 2.06-2.06.94zm-11 1L8.5 8.5l.94-2.06 2.06-.94-2.06-.94L8.5 2.5l-.94 2.06-2.06.94zm10 10l.94 2.06.94-2.06 2.06-.94-2.06-.94-.94-2.06-.94 2.06-2.06.94z\"/><path d=\"M17.41 7.96l-1.37-1.37c-.4-.4-.92-.59-1.43-.59-.52 0-1.04.2-1.43.59L10.3 9.45l-7.72 7.72c-.78.78-.78 2.05 0 2.83L4 21.41c.39.39.9.59 1.41.59.51 0 1.02-.2 1.41-.59l7.78-7.78 2.81-2.81c.8-.78.8-2.07 0-2.86zM5.41 20L4 18.59l7.72-7.72 1.47 1.35L5.41 20z\"/>\n",
       "  </svg>\n",
       "      </button>\n",
       "      \n",
       "  <style>\n",
       "    .colab-df-container {\n",
       "      display:flex;\n",
       "      flex-wrap:wrap;\n",
       "      gap: 12px;\n",
       "    }\n",
       "\n",
       "    .colab-df-convert {\n",
       "      background-color: #E8F0FE;\n",
       "      border: none;\n",
       "      border-radius: 50%;\n",
       "      cursor: pointer;\n",
       "      display: none;\n",
       "      fill: #1967D2;\n",
       "      height: 32px;\n",
       "      padding: 0 0 0 0;\n",
       "      width: 32px;\n",
       "    }\n",
       "\n",
       "    .colab-df-convert:hover {\n",
       "      background-color: #E2EBFA;\n",
       "      box-shadow: 0px 1px 2px rgba(60, 64, 67, 0.3), 0px 1px 3px 1px rgba(60, 64, 67, 0.15);\n",
       "      fill: #174EA6;\n",
       "    }\n",
       "\n",
       "    [theme=dark] .colab-df-convert {\n",
       "      background-color: #3B4455;\n",
       "      fill: #D2E3FC;\n",
       "    }\n",
       "\n",
       "    [theme=dark] .colab-df-convert:hover {\n",
       "      background-color: #434B5C;\n",
       "      box-shadow: 0px 1px 3px 1px rgba(0, 0, 0, 0.15);\n",
       "      filter: drop-shadow(0px 1px 2px rgba(0, 0, 0, 0.3));\n",
       "      fill: #FFFFFF;\n",
       "    }\n",
       "  </style>\n",
       "\n",
       "      <script>\n",
       "        const buttonEl =\n",
       "          document.querySelector('#df-2d44ad31-1b12-4238-b343-850a52266ef2 button.colab-df-convert');\n",
       "        buttonEl.style.display =\n",
       "          google.colab.kernel.accessAllowed ? 'block' : 'none';\n",
       "\n",
       "        async function convertToInteractive(key) {\n",
       "          const element = document.querySelector('#df-2d44ad31-1b12-4238-b343-850a52266ef2');\n",
       "          const dataTable =\n",
       "            await google.colab.kernel.invokeFunction('convertToInteractive',\n",
       "                                                     [key], {});\n",
       "          if (!dataTable) return;\n",
       "\n",
       "          const docLinkHtml = 'Like what you see? Visit the ' +\n",
       "            '<a target=\"_blank\" href=https://colab.research.google.com/notebooks/data_table.ipynb>data table notebook</a>'\n",
       "            + ' to learn more about interactive tables.';\n",
       "          element.innerHTML = '';\n",
       "          dataTable['output_type'] = 'display_data';\n",
       "          await google.colab.output.renderOutput(dataTable, element);\n",
       "          const docLink = document.createElement('div');\n",
       "          docLink.innerHTML = docLinkHtml;\n",
       "          element.appendChild(docLink);\n",
       "        }\n",
       "      </script>\n",
       "    </div>\n",
       "  </div>\n",
       "  "
      ],
      "text/plain": [
       "   song_id  play_freq  predicted_ratings  corrected_ratings\n",
       "3     7224        111           3.666771           3.571856\n",
       "2     6450        115           3.173413           3.080163\n",
       "4     8324        103           3.006556           2.908023\n",
       "0     8483        132           2.692783           2.605745\n",
       "1     8863        124           2.433057           2.343254"
      ]
     },
     "execution_count": 43,
     "metadata": {},
     "output_type": "execute_result"
    }
   ],
   "source": [
    "#Applying the ranking_songs function on the final_play data. \n",
    "\n",
    "ranking_songs(recommendations, final_play)"
   ]
  },
  {
   "cell_type": "markdown",
   "metadata": {
    "id": "V2EQCTr2Hb6H"
   },
   "source": [
    "**Observations and Insights:**\n",
    "\n",
    "- We now have both predicted and corrected ratings so this is a better estimation of ranking_songs"
   ]
  },
  {
   "cell_type": "markdown",
   "metadata": {
    "id": "EV3tKCCuHfn3"
   },
   "source": [
    "### **Item Item Similarity-based collaborative filtering recommendation systems**"
   ]
  },
  {
   "cell_type": "code",
   "execution_count": null,
   "metadata": {
    "colab": {
     "base_uri": "https://localhost:8080/"
    },
    "id": "GC4ZysILHadt",
    "outputId": "9cb33716-4bf2-4783-ae0d-3afc64951dcc"
   },
   "outputs": [
    {
     "name": "stdout",
     "output_type": "stream",
     "text": [
      "RMSE: 1.0077\n",
      "Precision:  0.313\n",
      "Recall:  0.561\n",
      "F_1 score:  0.402\n"
     ]
    }
   ],
   "source": [
    "#Apply the item-item similarity collaborative filtering model with random_state=1 and evaluate the model performance.\n",
    "sim_options = {'name': 'cosine',\n",
    "               'user_based': False}\n",
    "\n",
    "# KNN algorithm is used to find desired similar items\n",
    "sim_item_item = KNNBasic(sim_options = sim_options, random_state = 1, verbose = False)\n",
    "\n",
    "# Train the algorithm on the trainset, and predict ratings for the testset\n",
    "sim_item_item.fit(trainset)\n",
    "\n",
    "# Let us compute precision@k, recall@k, and f_1 score with k = 10\n",
    "precision_recall_at_k(sim_item_item)"
   ]
  },
  {
   "cell_type": "markdown",
   "metadata": {
    "id": "t6bcrIw1HpeM"
   },
   "source": [
    "**Observations and Insights:**\n",
    "\n",
    "- The model isn't performing well because the precision, recall, and F_1 scores are all lower. Hypertuning the parameter we should be able to increase these."
   ]
  },
  {
   "cell_type": "code",
   "execution_count": null,
   "metadata": {
    "colab": {
     "base_uri": "https://localhost:8080/"
    },
    "id": "D3kJ-FKNHsrY",
    "outputId": "217c0e0e-6400-485f-ae5f-5d0701a7ab3c"
   },
   "outputs": [
    {
     "name": "stdout",
     "output_type": "stream",
     "text": [
      "user: 6958       item: 1671       r_ui = 2.00   est = 1.42   {'actual_k': 21, 'was_impossible': False}\n"
     ]
    },
    {
     "data": {
      "text/plain": [
       "Prediction(uid=6958, iid=1671, r_ui=2, est=1.4238426703016684, details={'actual_k': 21, 'was_impossible': False})"
      ]
     },
     "execution_count": 45,
     "metadata": {},
     "output_type": "execute_result"
    }
   ],
   "source": [
    "#predicting play count for a sample user_id 6958 and song (with song_id 1671) heard by the user.\n",
    "sim_item_item.predict(6958, 1671, r_ui = 2, verbose = True)"
   ]
  },
  {
   "cell_type": "code",
   "execution_count": null,
   "metadata": {
    "colab": {
     "base_uri": "https://localhost:8080/"
    },
    "id": "9m-eMTMHHvHE",
    "outputId": "b3840ecf-6908-49d6-f686-72c2646f6cef"
   },
   "outputs": [
    {
     "name": "stdout",
     "output_type": "stream",
     "text": [
      "user: 6958       item: 1671       r_ui = None   est = 1.42   {'actual_k': 21, 'was_impossible': False}\n"
     ]
    },
    {
     "data": {
      "text/plain": [
       "Prediction(uid=6958, iid=1671, r_ui=None, est=1.4238426703016684, details={'actual_k': 21, 'was_impossible': False})"
      ]
     },
     "execution_count": 106,
     "metadata": {},
     "output_type": "execute_result"
    }
   ],
   "source": [
    "#Predict the play count for a user that has not listened to the song (with song_id 1671)\n",
    "sim_item_item.predict(6958, 1671, verbose = True)"
   ]
  },
  {
   "cell_type": "markdown",
   "metadata": {
    "id": "0n4qMGFLHykI"
   },
   "source": [
    "**Observations and Insights:**\n",
    "\n",
    "- The estimated value when compared to r_ui is dignificantly lower\n",
    "\n",
    "\n",
    "*For some reason, all the other predicions for NOT listened to were with song_id 3232 and this one is song_1671 same as the song hear by user, below are observations for both*\n",
    "\n",
    "*With song_id 1671*\n",
    "\n",
    "```\n",
    "user: 6958       item: 1671       r_ui = None   est = 1.42   {'actual_k': 21, 'was_impossible': False}\n",
    "Prediction(uid=6958, iid=1671, r_ui=None, est=1.4238426703016684, details={'actual_k': 21, 'was_impossible': False})\n",
    "```\n",
    "\n",
    "*With song_id 3232 *\n",
    "\n",
    "```\n",
    "user: 6958       item: 3232       r_ui = None   est = 1.48   {'actual_k': 21, 'was_impossible': False}\n",
    "Prediction(uid=6958, iid=3232, r_ui=None, est=1.4755602240054544, details={'actual_k': 21, 'was_impossible': False})\n",
    "```\n",
    "\n",
    "- Estimated value increased a little bit, but not enough. Actual_k is also lower.\n",
    "- Hyper tuning the parameter should help this\n",
    "\n"
   ]
  },
  {
   "cell_type": "code",
   "execution_count": null,
   "metadata": {
    "colab": {
     "base_uri": "https://localhost:8080/"
    },
    "id": "RFC6IW45HwKY",
    "outputId": "b8e4a1dd-0e9f-460f-d6fd-9732470102dd"
   },
   "outputs": [
    {
     "name": "stdout",
     "output_type": "stream",
     "text": [
      "0.9611491219207151\n",
      "{'k': 20, 'min_k': 3, 'sim_options': {'name': 'pearson_baseline', 'user_based': False, 'min_support': 2}}\n"
     ]
    }
   ],
   "source": [
    "#Apply grid search for enhancing model performance\n",
    "\n",
    "# setting up parameter grid to tune the hyperparameters\n",
    "param_grid = {'k': [10, 20, 30], 'min_k': [3, 6, 9],\n",
    "              'sim_options': {'name': [\"cosine\",'pearson',\"pearson_baseline\"],\n",
    "                              'user_based': [False], \"min_support\":[2,4]}\n",
    "              }\n",
    "\n",
    "# performing 3-fold cross validation to tune the hyperparameters\n",
    "gs = GridSearchCV(KNNBasic, param_grid, measures = ['rmse'], cv = 3, n_jobs = -1)\n",
    "\n",
    "# fitting the data\n",
    "gs.fit(data)\n",
    "\n",
    "# find best RMSE score\n",
    "print(gs.best_score['rmse'])\n",
    "\n",
    "# Extract the combination of parameters that gave the best RMSE score\n",
    "print(gs.best_params['rmse'])"
   ]
  },
  {
   "cell_type": "markdown",
   "metadata": {
    "id": "RsELZsKcH3zj"
   },
   "source": [
    "**Think About It:** How do the parameters affect the performance of the model? Can we improve the performance of the model further? Check the list of hyperparameter here."
   ]
  },
  {
   "cell_type": "code",
   "execution_count": null,
   "metadata": {
    "colab": {
     "base_uri": "https://localhost:8080/"
    },
    "id": "65Cl8x_aH5Ws",
    "outputId": "4ce55e98-5b2f-4343-8ad3-cefcb0d09afd"
   },
   "outputs": [
    {
     "name": "stdout",
     "output_type": "stream",
     "text": [
      "RMSE: 0.9697\n",
      "Precision:  0.468\n",
      "Recall:  0.614\n",
      "F_1 score:  0.531\n"
     ]
    }
   ],
   "source": [
    "#Apply the best modle found in the grid search.\n",
    "sim_options = {'name': 'pearson_baseline',\n",
    "               'user_based': False}\n",
    "\n",
    "# Creating an instance of KNNBasic with optimal hyperparameter values\n",
    "sim_item_item_optimized = KNNBasic(sim_options = sim_options, k = 20, min_k = 3, random_state = 1, verbose = False)\n",
    "\n",
    "# Training the algorithm on the trainset\n",
    "sim_item_item_optimized.fit(trainset)\n",
    "\n",
    "# Let us compute precision@k and recall@k also with k = 10\n",
    "precision_recall_at_k(sim_item_item_optimized)"
   ]
  },
  {
   "cell_type": "markdown",
   "metadata": {
    "id": "2lLiOv09H6uB"
   },
   "source": [
    "**Observations and Insights:**\n",
    "\n",
    "- We used four different techniques to tune the hyper parameter :\n",
    "\n",
    " - **cosine**  -\n",
    "  RMSE: 1.0080\n",
    "Precision:  0.333\n",
    "Recall:  0.555\n",
    "F_1 score:  0.416\n",
    "\n",
    " - **msd** - \n",
    " RMSE: 0.9982\n",
    "Precision:  0.365\n",
    "Recall:  0.539\n",
    "F_1 score:  0.435\n",
    "\n",
    " - **pearson** - \n",
    " RMSE: 0.9997\n",
    "Precision:  0.418\n",
    "Recall:  0.6\n",
    "F_1 score:  0.493\n",
    "\n",
    " - **pearson_baseline** - \n",
    " RMSE: 0.9697\n",
    "Precision:  0.468\n",
    "Recall:  0.614\n",
    "F_1 score:  0.531\n",
    "\n",
    "- Based on the model results, we can conclude that pearson_baseline the best out of all other techniques with the highest precision and F_1 score."
   ]
  },
  {
   "cell_type": "code",
   "execution_count": null,
   "metadata": {
    "colab": {
     "base_uri": "https://localhost:8080/"
    },
    "id": "VcOv_vwKH_be",
    "outputId": "0431464f-f95e-4f0d-8d46-fd9e90972023"
   },
   "outputs": [
    {
     "name": "stdout",
     "output_type": "stream",
     "text": [
      "user: 6958       item: 1671       r_ui = 2.00   est = 2.07   {'actual_k': 7, 'was_impossible': False}\n"
     ]
    },
    {
     "data": {
      "text/plain": [
       "Prediction(uid=6958, iid=1671, r_ui=2, est=2.0728310917959085, details={'actual_k': 7, 'was_impossible': False})"
      ]
     },
     "execution_count": 121,
     "metadata": {},
     "output_type": "execute_result"
    }
   ],
   "source": [
    "#Predict the play_count by a user(user_id 6958) for the song (song_id 1671)\n",
    "\n",
    "sim_item_item_optimized.predict(6958, 1671, r_ui = 2, verbose = True)"
   ]
  },
  {
   "cell_type": "code",
   "execution_count": null,
   "metadata": {
    "colab": {
     "base_uri": "https://localhost:8080/"
    },
    "id": "M85o5vmuH9CO",
    "outputId": "6c5c6eba-0315-4bf9-83e6-297b647f574b"
   },
   "outputs": [
    {
     "name": "stdout",
     "output_type": "stream",
     "text": [
      "user: 6958       item: 3232       r_ui = None   est = 1.00   {'actual_k': 9, 'was_impossible': False}\n"
     ]
    },
    {
     "data": {
      "text/plain": [
       "Prediction(uid=6958, iid=3232, r_ui=None, est=1.0, details={'actual_k': 9, 'was_impossible': False})"
      ]
     },
     "execution_count": 122,
     "metadata": {},
     "output_type": "execute_result"
    }
   ],
   "source": [
    "#predicting play count for a sample user_id 6958 with song_id 3232 which is not heard by the user.\n",
    "\n",
    "sim_item_item_optimized.predict(6958, 3232, verbose = True)"
   ]
  },
  {
   "cell_type": "markdown",
   "metadata": {
    "id": "g6zscpYyIFNC"
   },
   "source": [
    "**Observations and Insights:**\n",
    "\n",
    "- By tuning the hyperparameter, we see an increase in the estimated values for song 1671 and a decrease for song 3232\n",
    "- We also see a decrease in actual_k for both predictors"
   ]
  },
  {
   "cell_type": "code",
   "execution_count": null,
   "metadata": {
    "colab": {
     "base_uri": "https://localhost:8080/"
    },
    "id": "v8n_hOGAIEQX",
    "outputId": "dcf7e187-bf9f-420e-969d-29043e28d569"
   },
   "outputs": [
    {
     "data": {
      "text/plain": [
       "[40, 59, 145, 52, 93]"
      ]
     },
     "execution_count": 51,
     "metadata": {},
     "output_type": "execute_result"
    }
   ],
   "source": [
    "#Find five most similar users to the user with inner id 0\n",
    "\n",
    "sim_item_item_optimized.get_neighbors(0, k = 5)"
   ]
  },
  {
   "cell_type": "code",
   "execution_count": null,
   "metadata": {
    "id": "J_TpfXAWdMRs"
   },
   "outputs": [],
   "source": [
    "#Making top 5 recommendations for user_id 6958 with item_item_similarity-based recommendation engine.\n",
    "recommendations = get_recommendations(df_final, 6958, 5, sim_item_item_optimized)"
   ]
  },
  {
   "cell_type": "code",
   "execution_count": null,
   "metadata": {
    "colab": {
     "base_uri": "https://localhost:8080/",
     "height": 204
    },
    "id": "gp_cmGZHdTYu",
    "outputId": "2db0ab6c-4856-4ba2-eecf-8212d2cde7ca"
   },
   "outputs": [
    {
     "data": {
      "text/html": [
       "\n",
       "  <div id=\"df-643598dc-2041-4a32-b440-79de03602a51\">\n",
       "    <div class=\"colab-df-container\">\n",
       "      <div>\n",
       "<style scoped>\n",
       "    .dataframe tbody tr th:only-of-type {\n",
       "        vertical-align: middle;\n",
       "    }\n",
       "\n",
       "    .dataframe tbody tr th {\n",
       "        vertical-align: top;\n",
       "    }\n",
       "\n",
       "    .dataframe thead th {\n",
       "        text-align: right;\n",
       "    }\n",
       "</style>\n",
       "<table border=\"1\" class=\"dataframe\">\n",
       "  <thead>\n",
       "    <tr style=\"text-align: right;\">\n",
       "      <th></th>\n",
       "      <th>song_id</th>\n",
       "      <th>predicted_ratings</th>\n",
       "    </tr>\n",
       "  </thead>\n",
       "  <tbody>\n",
       "    <tr>\n",
       "      <th>0</th>\n",
       "      <td>3466</td>\n",
       "      <td>3.429231</td>\n",
       "    </tr>\n",
       "    <tr>\n",
       "      <th>1</th>\n",
       "      <td>2234</td>\n",
       "      <td>3.372966</td>\n",
       "    </tr>\n",
       "    <tr>\n",
       "      <th>2</th>\n",
       "      <td>4806</td>\n",
       "      <td>3.286799</td>\n",
       "    </tr>\n",
       "    <tr>\n",
       "      <th>3</th>\n",
       "      <td>9076</td>\n",
       "      <td>3.122453</td>\n",
       "    </tr>\n",
       "    <tr>\n",
       "      <th>4</th>\n",
       "      <td>5398</td>\n",
       "      <td>3.015413</td>\n",
       "    </tr>\n",
       "  </tbody>\n",
       "</table>\n",
       "</div>\n",
       "      <button class=\"colab-df-convert\" onclick=\"convertToInteractive('df-643598dc-2041-4a32-b440-79de03602a51')\"\n",
       "              title=\"Convert this dataframe to an interactive table.\"\n",
       "              style=\"display:none;\">\n",
       "        \n",
       "  <svg xmlns=\"http://www.w3.org/2000/svg\" height=\"24px\"viewBox=\"0 0 24 24\"\n",
       "       width=\"24px\">\n",
       "    <path d=\"M0 0h24v24H0V0z\" fill=\"none\"/>\n",
       "    <path d=\"M18.56 5.44l.94 2.06.94-2.06 2.06-.94-2.06-.94-.94-2.06-.94 2.06-2.06.94zm-11 1L8.5 8.5l.94-2.06 2.06-.94-2.06-.94L8.5 2.5l-.94 2.06-2.06.94zm10 10l.94 2.06.94-2.06 2.06-.94-2.06-.94-.94-2.06-.94 2.06-2.06.94z\"/><path d=\"M17.41 7.96l-1.37-1.37c-.4-.4-.92-.59-1.43-.59-.52 0-1.04.2-1.43.59L10.3 9.45l-7.72 7.72c-.78.78-.78 2.05 0 2.83L4 21.41c.39.39.9.59 1.41.59.51 0 1.02-.2 1.41-.59l7.78-7.78 2.81-2.81c.8-.78.8-2.07 0-2.86zM5.41 20L4 18.59l7.72-7.72 1.47 1.35L5.41 20z\"/>\n",
       "  </svg>\n",
       "      </button>\n",
       "      \n",
       "  <style>\n",
       "    .colab-df-container {\n",
       "      display:flex;\n",
       "      flex-wrap:wrap;\n",
       "      gap: 12px;\n",
       "    }\n",
       "\n",
       "    .colab-df-convert {\n",
       "      background-color: #E8F0FE;\n",
       "      border: none;\n",
       "      border-radius: 50%;\n",
       "      cursor: pointer;\n",
       "      display: none;\n",
       "      fill: #1967D2;\n",
       "      height: 32px;\n",
       "      padding: 0 0 0 0;\n",
       "      width: 32px;\n",
       "    }\n",
       "\n",
       "    .colab-df-convert:hover {\n",
       "      background-color: #E2EBFA;\n",
       "      box-shadow: 0px 1px 2px rgba(60, 64, 67, 0.3), 0px 1px 3px 1px rgba(60, 64, 67, 0.15);\n",
       "      fill: #174EA6;\n",
       "    }\n",
       "\n",
       "    [theme=dark] .colab-df-convert {\n",
       "      background-color: #3B4455;\n",
       "      fill: #D2E3FC;\n",
       "    }\n",
       "\n",
       "    [theme=dark] .colab-df-convert:hover {\n",
       "      background-color: #434B5C;\n",
       "      box-shadow: 0px 1px 3px 1px rgba(0, 0, 0, 0.15);\n",
       "      filter: drop-shadow(0px 1px 2px rgba(0, 0, 0, 0.3));\n",
       "      fill: #FFFFFF;\n",
       "    }\n",
       "  </style>\n",
       "\n",
       "      <script>\n",
       "        const buttonEl =\n",
       "          document.querySelector('#df-643598dc-2041-4a32-b440-79de03602a51 button.colab-df-convert');\n",
       "        buttonEl.style.display =\n",
       "          google.colab.kernel.accessAllowed ? 'block' : 'none';\n",
       "\n",
       "        async function convertToInteractive(key) {\n",
       "          const element = document.querySelector('#df-643598dc-2041-4a32-b440-79de03602a51');\n",
       "          const dataTable =\n",
       "            await google.colab.kernel.invokeFunction('convertToInteractive',\n",
       "                                                     [key], {});\n",
       "          if (!dataTable) return;\n",
       "\n",
       "          const docLinkHtml = 'Like what you see? Visit the ' +\n",
       "            '<a target=\"_blank\" href=https://colab.research.google.com/notebooks/data_table.ipynb>data table notebook</a>'\n",
       "            + ' to learn more about interactive tables.';\n",
       "          element.innerHTML = '';\n",
       "          dataTable['output_type'] = 'display_data';\n",
       "          await google.colab.output.renderOutput(dataTable, element);\n",
       "          const docLink = document.createElement('div');\n",
       "          docLink.innerHTML = docLinkHtml;\n",
       "          element.appendChild(docLink);\n",
       "        }\n",
       "      </script>\n",
       "    </div>\n",
       "  </div>\n",
       "  "
      ],
      "text/plain": [
       "   song_id  predicted_ratings\n",
       "0     3466           3.429231\n",
       "1     2234           3.372966\n",
       "2     4806           3.286799\n",
       "3     9076           3.122453\n",
       "4     5398           3.015413"
      ]
     },
     "execution_count": 53,
     "metadata": {},
     "output_type": "execute_result"
    }
   ],
   "source": [
    "#Building the dataframe for above recommendations with columns \"song_id\" and \"predicted_play_count\"\n",
    "pd.DataFrame(recommendations, columns = ['song_id', 'predicted_ratings'])"
   ]
  },
  {
   "cell_type": "code",
   "execution_count": null,
   "metadata": {
    "colab": {
     "base_uri": "https://localhost:8080/",
     "height": 204
    },
    "id": "XPTOieomdY1k",
    "outputId": "57a10a47-cee5-451a-dbab-629e0c92f370"
   },
   "outputs": [
    {
     "data": {
      "text/html": [
       "\n",
       "  <div id=\"df-66c91a73-00cd-4031-9aec-f0c16df3855b\">\n",
       "    <div class=\"colab-df-container\">\n",
       "      <div>\n",
       "<style scoped>\n",
       "    .dataframe tbody tr th:only-of-type {\n",
       "        vertical-align: middle;\n",
       "    }\n",
       "\n",
       "    .dataframe tbody tr th {\n",
       "        vertical-align: top;\n",
       "    }\n",
       "\n",
       "    .dataframe thead th {\n",
       "        text-align: right;\n",
       "    }\n",
       "</style>\n",
       "<table border=\"1\" class=\"dataframe\">\n",
       "  <thead>\n",
       "    <tr style=\"text-align: right;\">\n",
       "      <th></th>\n",
       "      <th>song_id</th>\n",
       "      <th>play_freq</th>\n",
       "      <th>predicted_ratings</th>\n",
       "      <th>corrected_ratings</th>\n",
       "    </tr>\n",
       "  </thead>\n",
       "  <tbody>\n",
       "    <tr>\n",
       "      <th>4</th>\n",
       "      <td>3466</td>\n",
       "      <td>118</td>\n",
       "      <td>3.429231</td>\n",
       "      <td>3.337173</td>\n",
       "    </tr>\n",
       "    <tr>\n",
       "      <th>3</th>\n",
       "      <td>2234</td>\n",
       "      <td>154</td>\n",
       "      <td>3.372966</td>\n",
       "      <td>3.292383</td>\n",
       "    </tr>\n",
       "    <tr>\n",
       "      <th>1</th>\n",
       "      <td>4806</td>\n",
       "      <td>235</td>\n",
       "      <td>3.286799</td>\n",
       "      <td>3.221566</td>\n",
       "    </tr>\n",
       "    <tr>\n",
       "      <th>2</th>\n",
       "      <td>9076</td>\n",
       "      <td>156</td>\n",
       "      <td>3.122453</td>\n",
       "      <td>3.042389</td>\n",
       "    </tr>\n",
       "    <tr>\n",
       "      <th>0</th>\n",
       "      <td>5398</td>\n",
       "      <td>300</td>\n",
       "      <td>3.015413</td>\n",
       "      <td>2.957678</td>\n",
       "    </tr>\n",
       "  </tbody>\n",
       "</table>\n",
       "</div>\n",
       "      <button class=\"colab-df-convert\" onclick=\"convertToInteractive('df-66c91a73-00cd-4031-9aec-f0c16df3855b')\"\n",
       "              title=\"Convert this dataframe to an interactive table.\"\n",
       "              style=\"display:none;\">\n",
       "        \n",
       "  <svg xmlns=\"http://www.w3.org/2000/svg\" height=\"24px\"viewBox=\"0 0 24 24\"\n",
       "       width=\"24px\">\n",
       "    <path d=\"M0 0h24v24H0V0z\" fill=\"none\"/>\n",
       "    <path d=\"M18.56 5.44l.94 2.06.94-2.06 2.06-.94-2.06-.94-.94-2.06-.94 2.06-2.06.94zm-11 1L8.5 8.5l.94-2.06 2.06-.94-2.06-.94L8.5 2.5l-.94 2.06-2.06.94zm10 10l.94 2.06.94-2.06 2.06-.94-2.06-.94-.94-2.06-.94 2.06-2.06.94z\"/><path d=\"M17.41 7.96l-1.37-1.37c-.4-.4-.92-.59-1.43-.59-.52 0-1.04.2-1.43.59L10.3 9.45l-7.72 7.72c-.78.78-.78 2.05 0 2.83L4 21.41c.39.39.9.59 1.41.59.51 0 1.02-.2 1.41-.59l7.78-7.78 2.81-2.81c.8-.78.8-2.07 0-2.86zM5.41 20L4 18.59l7.72-7.72 1.47 1.35L5.41 20z\"/>\n",
       "  </svg>\n",
       "      </button>\n",
       "      \n",
       "  <style>\n",
       "    .colab-df-container {\n",
       "      display:flex;\n",
       "      flex-wrap:wrap;\n",
       "      gap: 12px;\n",
       "    }\n",
       "\n",
       "    .colab-df-convert {\n",
       "      background-color: #E8F0FE;\n",
       "      border: none;\n",
       "      border-radius: 50%;\n",
       "      cursor: pointer;\n",
       "      display: none;\n",
       "      fill: #1967D2;\n",
       "      height: 32px;\n",
       "      padding: 0 0 0 0;\n",
       "      width: 32px;\n",
       "    }\n",
       "\n",
       "    .colab-df-convert:hover {\n",
       "      background-color: #E2EBFA;\n",
       "      box-shadow: 0px 1px 2px rgba(60, 64, 67, 0.3), 0px 1px 3px 1px rgba(60, 64, 67, 0.15);\n",
       "      fill: #174EA6;\n",
       "    }\n",
       "\n",
       "    [theme=dark] .colab-df-convert {\n",
       "      background-color: #3B4455;\n",
       "      fill: #D2E3FC;\n",
       "    }\n",
       "\n",
       "    [theme=dark] .colab-df-convert:hover {\n",
       "      background-color: #434B5C;\n",
       "      box-shadow: 0px 1px 3px 1px rgba(0, 0, 0, 0.15);\n",
       "      filter: drop-shadow(0px 1px 2px rgba(0, 0, 0, 0.3));\n",
       "      fill: #FFFFFF;\n",
       "    }\n",
       "  </style>\n",
       "\n",
       "      <script>\n",
       "        const buttonEl =\n",
       "          document.querySelector('#df-66c91a73-00cd-4031-9aec-f0c16df3855b button.colab-df-convert');\n",
       "        buttonEl.style.display =\n",
       "          google.colab.kernel.accessAllowed ? 'block' : 'none';\n",
       "\n",
       "        async function convertToInteractive(key) {\n",
       "          const element = document.querySelector('#df-66c91a73-00cd-4031-9aec-f0c16df3855b');\n",
       "          const dataTable =\n",
       "            await google.colab.kernel.invokeFunction('convertToInteractive',\n",
       "                                                     [key], {});\n",
       "          if (!dataTable) return;\n",
       "\n",
       "          const docLinkHtml = 'Like what you see? Visit the ' +\n",
       "            '<a target=\"_blank\" href=https://colab.research.google.com/notebooks/data_table.ipynb>data table notebook</a>'\n",
       "            + ' to learn more about interactive tables.';\n",
       "          element.innerHTML = '';\n",
       "          dataTable['output_type'] = 'display_data';\n",
       "          await google.colab.output.renderOutput(dataTable, element);\n",
       "          const docLink = document.createElement('div');\n",
       "          docLink.innerHTML = docLinkHtml;\n",
       "          element.appendChild(docLink);\n",
       "        }\n",
       "      </script>\n",
       "    </div>\n",
       "  </div>\n",
       "  "
      ],
      "text/plain": [
       "   song_id  play_freq  predicted_ratings  corrected_ratings\n",
       "4     3466        118           3.429231           3.337173\n",
       "3     2234        154           3.372966           3.292383\n",
       "1     4806        235           3.286799           3.221566\n",
       "2     9076        156           3.122453           3.042389\n",
       "0     5398        300           3.015413           2.957678"
      ]
     },
     "execution_count": 54,
     "metadata": {},
     "output_type": "execute_result"
    }
   ],
   "source": [
    "#Applying the ranking_songs function. \n",
    "\n",
    "ranking_songs(recommendations, final_play)"
   ]
  },
  {
   "cell_type": "markdown",
   "metadata": {
    "id": "dnPRx3MldiKn"
   },
   "source": [
    "**Observations and Insights:**\n",
    "\n",
    "- Displayed are the ranking songs based on recommendations\n",
    "- Very similar recommendations as the user-user model"
   ]
  },
  {
   "cell_type": "markdown",
   "metadata": {
    "id": "Qz0w8-Wb_IKh"
   },
   "source": [
    "### **Model Based Collaborative Filtering - Matrix Factorization**"
   ]
  },
  {
   "cell_type": "markdown",
   "metadata": {
    "id": "mVU4I4X0_Kz_"
   },
   "source": [
    "Model-based Collaborative Filtering is a personalized recommendation system, the recommendations are based on the past behavior of the user and it is not dependent on any additional information. We use latent features to find recommendations for each user."
   ]
  },
  {
   "cell_type": "code",
   "execution_count": null,
   "metadata": {
    "colab": {
     "base_uri": "https://localhost:8080/"
    },
    "id": "fix8AHQo_QF1",
    "outputId": "e5385225-db1a-4dbf-f00f-6ee86192618d"
   },
   "outputs": [
    {
     "name": "stdout",
     "output_type": "stream",
     "text": [
      "RMSE: 0.9761\n",
      "Precision:  0.43\n",
      "Recall:  0.659\n",
      "F_1 score:  0.52\n"
     ]
    }
   ],
   "source": [
    "# Build baseline model using svd\n",
    "svd = SVD(random_state = 1)\n",
    "\n",
    "# Training the algorithm on the trainset\n",
    "svd.fit(trainset)\n",
    "\n",
    "# Let us compute precision@k and recall@k with k = 10\n",
    "precision_recall_at_k(svd)"
   ]
  },
  {
   "cell_type": "code",
   "execution_count": null,
   "metadata": {
    "colab": {
     "base_uri": "https://localhost:8080/"
    },
    "id": "RgGSrz_q_Ui9",
    "outputId": "d596450e-12ca-443f-fd1e-176e2cfc19f7"
   },
   "outputs": [
    {
     "name": "stdout",
     "output_type": "stream",
     "text": [
      "user: 6958       item: 1671       r_ui = 2.00   est = 1.63   {'was_impossible': False}\n"
     ]
    },
    {
     "data": {
      "text/plain": [
       "Prediction(uid=6958, iid=1671, r_ui=2, est=1.6322878531524347, details={'was_impossible': False})"
      ]
     },
     "execution_count": 124,
     "metadata": {},
     "output_type": "execute_result"
    }
   ],
   "source": [
    "# Making prediction for user (with user_id 6958) to song (with song_id 1671), take r_ui=2\n",
    "svd.predict(6958, 1671, r_ui = 2, verbose = True)"
   ]
  },
  {
   "cell_type": "code",
   "execution_count": null,
   "metadata": {
    "colab": {
     "base_uri": "https://localhost:8080/"
    },
    "id": "7ieFN-KU_sGZ",
    "outputId": "926c2eee-7cb2-48ac-d928-325815ebf3ff"
   },
   "outputs": [
    {
     "name": "stdout",
     "output_type": "stream",
     "text": [
      "user: 6958       item: 3232       r_ui = None   est = 1.93   {'was_impossible': False}\n"
     ]
    },
    {
     "data": {
      "text/plain": [
       "Prediction(uid=6958, iid=3232, r_ui=None, est=1.9312056088502767, details={'was_impossible': False})"
      ]
     },
     "execution_count": 125,
     "metadata": {},
     "output_type": "execute_result"
    }
   ],
   "source": [
    "# Making prediction for user who has not listened the song (song_id 3232)\n",
    "svd.predict(6958, 3232, verbose = True)"
   ]
  },
  {
   "cell_type": "markdown",
   "metadata": {
    "id": "45FXBUPTA8KX"
   },
   "source": [
    "Improving matrix factorization based recommendation system by tuning its hyperparameters"
   ]
  },
  {
   "cell_type": "code",
   "execution_count": null,
   "metadata": {
    "colab": {
     "base_uri": "https://localhost:8080/"
    },
    "id": "kaM2NhnM_0TL",
    "outputId": "d6019fed-ca0a-4616-832d-c7926ea8ecd2"
   },
   "outputs": [
    {
     "name": "stdout",
     "output_type": "stream",
     "text": [
      "0.9917170560503544\n",
      "{'n_epochs': 30, 'lr_all': 0.01, 'reg_all': 0.2}\n"
     ]
    }
   ],
   "source": [
    "# set the parameter space to tune\n",
    "param_grid = {'n_epochs': [10, 20, 30], 'lr_all': [0.001, 0.005, 0.01],\n",
    "              'reg_all': [0.2, 0.4, 0.6]}\n",
    "\n",
    "# performe 3-fold gridsearch cross validation\n",
    "gs = GridSearchCV(SVD, param_grid, measures = ['rmse'], cv = 3, n_jobs = -1)\n",
    "\n",
    "# fitting data\n",
    "gs.fit(data)\n",
    "\n",
    "# best RMSE score\n",
    "print(gs.best_score['rmse'])\n",
    "\n",
    "# combination of parameters that gave the best RMSE score\n",
    "print(gs.best_params['rmse'])"
   ]
  },
  {
   "cell_type": "markdown",
   "metadata": {
    "id": "g669W7aYBeSF"
   },
   "source": [
    "Think About It: How do the parameters affect the performance of the model? Can we improve the performance of the model further? Check the available hyperparameters here."
   ]
  },
  {
   "cell_type": "code",
   "execution_count": null,
   "metadata": {
    "colab": {
     "base_uri": "https://localhost:8080/"
    },
    "id": "CG6wt99UBQSk",
    "outputId": "40afb730-1424-44a6-960c-41d1d170dc1e"
   },
   "outputs": [
    {
     "name": "stdout",
     "output_type": "stream",
     "text": [
      "RMSE: 0.9873\n",
      "Precision:  0.406\n",
      "Recall:  0.64\n",
      "F_1 score:  0.497\n"
     ]
    }
   ],
   "source": [
    "# Building the optimized SVD model using optimal hyperparameters\n",
    "svd_optimized = SVD(n_epochs = 30, lr_all = 0.01, reg_all = 0.2, random_state = 1)\n",
    "\n",
    "# Training the algorithm on the trainset\n",
    "svd_optimized = svd_optimized.fit(trainset)\n",
    "\n",
    "# Let us compute precision@k and recall@k also with k = 10\n",
    "precision_recall_at_k(svd_optimized)\n"
   ]
  },
  {
   "cell_type": "markdown",
   "metadata": {
    "id": "OwEBxu4xB2Oe"
   },
   "source": [
    "**Observations and Insights:**\n",
    "\n",
    "- By hypertuning the parameters we see an increase in F_1 score but not enough to conclude that this model is successful based on the precision"
   ]
  },
  {
   "cell_type": "code",
   "execution_count": null,
   "metadata": {
    "colab": {
     "base_uri": "https://localhost:8080/"
    },
    "id": "-KkX8USSBvV9",
    "outputId": "8126ded7-8ca2-453f-93da-19bb3915e318"
   },
   "outputs": [
    {
     "name": "stdout",
     "output_type": "stream",
     "text": [
      "user: 6958       item: 1671       r_ui = 2.00   est = 1.57   {'was_impossible': False}\n"
     ]
    },
    {
     "data": {
      "text/plain": [
       "Prediction(uid=6958, iid=1671, r_ui=2, est=1.5683612006993852, details={'was_impossible': False})"
      ]
     },
     "execution_count": 128,
     "metadata": {},
     "output_type": "execute_result"
    }
   ],
   "source": [
    "#Using svd_algo_optimized model to recommend for userId 6958 and song_id 1671.\n",
    "svd_optimized.predict(6958, 1671, r_ui = 2, verbose = True)"
   ]
  },
  {
   "cell_type": "code",
   "execution_count": null,
   "metadata": {
    "colab": {
     "base_uri": "https://localhost:8080/"
    },
    "id": "WE0qO8pbCAqD",
    "outputId": "bea794e4-2b5e-40ee-df96-f0500601b8c8"
   },
   "outputs": [
    {
     "name": "stdout",
     "output_type": "stream",
     "text": [
      "user: 6958       item: 3232       r_ui = None   est = 1.59   {'was_impossible': False}\n"
     ]
    },
    {
     "data": {
      "text/plain": [
       "Prediction(uid=6958, iid=3232, r_ui=None, est=1.5930432795998162, details={'was_impossible': False})"
      ]
     },
     "execution_count": 129,
     "metadata": {},
     "output_type": "execute_result"
    }
   ],
   "source": [
    "# Making prediction for user who has not listened the song (song_id 3232)\n",
    "svd_optimized.predict(6958, 3232, verbose = True)"
   ]
  },
  {
   "cell_type": "markdown",
   "metadata": {
    "id": "jdVAOm-4HJ53"
   },
   "source": [
    "**Observations and Insights:**\n",
    "- The est for the hypertuned for song 1671 decreased from when we ran the base model\n",
    "- For song 3232, the est is closer to 2 "
   ]
  },
  {
   "cell_type": "code",
   "execution_count": null,
   "metadata": {
    "id": "QvvFFwKtG5ZZ"
   },
   "outputs": [],
   "source": [
    "# Getting top 5 recommendations for user_id 6958 using \"svd_optimized\" algorithm.\n",
    "svd_recommendations = get_recommendations(df_final, 6958, 5, svd_optimized)"
   ]
  },
  {
   "cell_type": "code",
   "execution_count": null,
   "metadata": {
    "colab": {
     "base_uri": "https://localhost:8080/",
     "height": 204
    },
    "id": "gU24pEfLHRP3",
    "outputId": "c764e7f6-46d9-4d21-ce82-a7e5b57ffa56"
   },
   "outputs": [
    {
     "data": {
      "text/html": [
       "\n",
       "  <div id=\"df-ca91c06f-35b1-45f5-bf29-cb81eaf58aba\">\n",
       "    <div class=\"colab-df-container\">\n",
       "      <div>\n",
       "<style scoped>\n",
       "    .dataframe tbody tr th:only-of-type {\n",
       "        vertical-align: middle;\n",
       "    }\n",
       "\n",
       "    .dataframe tbody tr th {\n",
       "        vertical-align: top;\n",
       "    }\n",
       "\n",
       "    .dataframe thead th {\n",
       "        text-align: right;\n",
       "    }\n",
       "</style>\n",
       "<table border=\"1\" class=\"dataframe\">\n",
       "  <thead>\n",
       "    <tr style=\"text-align: right;\">\n",
       "      <th></th>\n",
       "      <th>song_id</th>\n",
       "      <th>play_freq</th>\n",
       "      <th>predicted_ratings</th>\n",
       "      <th>corrected_ratings</th>\n",
       "    </tr>\n",
       "  </thead>\n",
       "  <tbody>\n",
       "    <tr>\n",
       "      <th>2</th>\n",
       "      <td>7224</td>\n",
       "      <td>111</td>\n",
       "      <td>2.906465</td>\n",
       "      <td>2.811549</td>\n",
       "    </tr>\n",
       "    <tr>\n",
       "      <th>3</th>\n",
       "      <td>8324</td>\n",
       "      <td>103</td>\n",
       "      <td>2.518884</td>\n",
       "      <td>2.420351</td>\n",
       "    </tr>\n",
       "    <tr>\n",
       "      <th>0</th>\n",
       "      <td>9942</td>\n",
       "      <td>161</td>\n",
       "      <td>2.442956</td>\n",
       "      <td>2.364145</td>\n",
       "    </tr>\n",
       "    <tr>\n",
       "      <th>1</th>\n",
       "      <td>6450</td>\n",
       "      <td>115</td>\n",
       "      <td>2.377569</td>\n",
       "      <td>2.284319</td>\n",
       "    </tr>\n",
       "    <tr>\n",
       "      <th>4</th>\n",
       "      <td>4831</td>\n",
       "      <td>99</td>\n",
       "      <td>2.241379</td>\n",
       "      <td>2.140875</td>\n",
       "    </tr>\n",
       "  </tbody>\n",
       "</table>\n",
       "</div>\n",
       "      <button class=\"colab-df-convert\" onclick=\"convertToInteractive('df-ca91c06f-35b1-45f5-bf29-cb81eaf58aba')\"\n",
       "              title=\"Convert this dataframe to an interactive table.\"\n",
       "              style=\"display:none;\">\n",
       "        \n",
       "  <svg xmlns=\"http://www.w3.org/2000/svg\" height=\"24px\"viewBox=\"0 0 24 24\"\n",
       "       width=\"24px\">\n",
       "    <path d=\"M0 0h24v24H0V0z\" fill=\"none\"/>\n",
       "    <path d=\"M18.56 5.44l.94 2.06.94-2.06 2.06-.94-2.06-.94-.94-2.06-.94 2.06-2.06.94zm-11 1L8.5 8.5l.94-2.06 2.06-.94-2.06-.94L8.5 2.5l-.94 2.06-2.06.94zm10 10l.94 2.06.94-2.06 2.06-.94-2.06-.94-.94-2.06-.94 2.06-2.06.94z\"/><path d=\"M17.41 7.96l-1.37-1.37c-.4-.4-.92-.59-1.43-.59-.52 0-1.04.2-1.43.59L10.3 9.45l-7.72 7.72c-.78.78-.78 2.05 0 2.83L4 21.41c.39.39.9.59 1.41.59.51 0 1.02-.2 1.41-.59l7.78-7.78 2.81-2.81c.8-.78.8-2.07 0-2.86zM5.41 20L4 18.59l7.72-7.72 1.47 1.35L5.41 20z\"/>\n",
       "  </svg>\n",
       "      </button>\n",
       "      \n",
       "  <style>\n",
       "    .colab-df-container {\n",
       "      display:flex;\n",
       "      flex-wrap:wrap;\n",
       "      gap: 12px;\n",
       "    }\n",
       "\n",
       "    .colab-df-convert {\n",
       "      background-color: #E8F0FE;\n",
       "      border: none;\n",
       "      border-radius: 50%;\n",
       "      cursor: pointer;\n",
       "      display: none;\n",
       "      fill: #1967D2;\n",
       "      height: 32px;\n",
       "      padding: 0 0 0 0;\n",
       "      width: 32px;\n",
       "    }\n",
       "\n",
       "    .colab-df-convert:hover {\n",
       "      background-color: #E2EBFA;\n",
       "      box-shadow: 0px 1px 2px rgba(60, 64, 67, 0.3), 0px 1px 3px 1px rgba(60, 64, 67, 0.15);\n",
       "      fill: #174EA6;\n",
       "    }\n",
       "\n",
       "    [theme=dark] .colab-df-convert {\n",
       "      background-color: #3B4455;\n",
       "      fill: #D2E3FC;\n",
       "    }\n",
       "\n",
       "    [theme=dark] .colab-df-convert:hover {\n",
       "      background-color: #434B5C;\n",
       "      box-shadow: 0px 1px 3px 1px rgba(0, 0, 0, 0.15);\n",
       "      filter: drop-shadow(0px 1px 2px rgba(0, 0, 0, 0.3));\n",
       "      fill: #FFFFFF;\n",
       "    }\n",
       "  </style>\n",
       "\n",
       "      <script>\n",
       "        const buttonEl =\n",
       "          document.querySelector('#df-ca91c06f-35b1-45f5-bf29-cb81eaf58aba button.colab-df-convert');\n",
       "        buttonEl.style.display =\n",
       "          google.colab.kernel.accessAllowed ? 'block' : 'none';\n",
       "\n",
       "        async function convertToInteractive(key) {\n",
       "          const element = document.querySelector('#df-ca91c06f-35b1-45f5-bf29-cb81eaf58aba');\n",
       "          const dataTable =\n",
       "            await google.colab.kernel.invokeFunction('convertToInteractive',\n",
       "                                                     [key], {});\n",
       "          if (!dataTable) return;\n",
       "\n",
       "          const docLinkHtml = 'Like what you see? Visit the ' +\n",
       "            '<a target=\"_blank\" href=https://colab.research.google.com/notebooks/data_table.ipynb>data table notebook</a>'\n",
       "            + ' to learn more about interactive tables.';\n",
       "          element.innerHTML = '';\n",
       "          dataTable['output_type'] = 'display_data';\n",
       "          await google.colab.output.renderOutput(dataTable, element);\n",
       "          const docLink = document.createElement('div');\n",
       "          docLink.innerHTML = docLinkHtml;\n",
       "          element.appendChild(docLink);\n",
       "        }\n",
       "      </script>\n",
       "    </div>\n",
       "  </div>\n",
       "  "
      ],
      "text/plain": [
       "   song_id  play_freq  predicted_ratings  corrected_ratings\n",
       "2     7224        111           2.906465           2.811549\n",
       "3     8324        103           2.518884           2.420351\n",
       "0     9942        161           2.442956           2.364145\n",
       "1     6450        115           2.377569           2.284319\n",
       "4     4831         99           2.241379           2.140875"
      ]
     },
     "execution_count": 63,
     "metadata": {},
     "output_type": "execute_result"
    }
   ],
   "source": [
    "# Ranking products based on above recommendations\n",
    "ranking_songs(svd_recommendations, final_play)"
   ]
  },
  {
   "cell_type": "markdown",
   "metadata": {
    "id": "Yf7xUY8yHjyy"
   },
   "source": [
    "**Observations and Insights:**\n",
    "- The above are the ranks of played songs with their predicted and corrected ratings\n",
    "- We see when compared to the other two models slightly different results\n",
    "- The ratings are lower than the other two models used"
   ]
  },
  {
   "cell_type": "markdown",
   "metadata": {
    "id": "lkWWGte0LqWY"
   },
   "source": [
    "### **Cluster Based Recommendation System**"
   ]
  },
  {
   "cell_type": "markdown",
   "metadata": {
    "id": "zJ2-OyFXLudo"
   },
   "source": [
    "In clustering-based recommendation systems, we explore the similarities and differences in people's tastes in songs based on how they rate different songs. We cluster similar users together and recommend songs to a user based on play_counts from other users in the same cluster."
   ]
  },
  {
   "cell_type": "code",
   "execution_count": null,
   "metadata": {
    "colab": {
     "base_uri": "https://localhost:8080/"
    },
    "id": "hBO8A53ULtFT",
    "outputId": "cc2362d4-b0de-43a9-842c-963621010e3a"
   },
   "outputs": [
    {
     "name": "stdout",
     "output_type": "stream",
     "text": [
      "RMSE: 1.0249\n",
      "Precision:  0.397\n",
      "Recall:  0.583\n",
      "F_1 score:  0.472\n"
     ]
    }
   ],
   "source": [
    "# Make baseline clustering model\n",
    "clust_baseline = CoClustering(random_state = 1)\n",
    "\n",
    "# Training the algorithm on the trainset\n",
    "clust_baseline.fit(trainset)\n",
    "\n",
    "# Let us compute precision@k and recall@k with k = 10\n",
    "precision_recall_at_k(clust_baseline)"
   ]
  },
  {
   "cell_type": "code",
   "execution_count": null,
   "metadata": {
    "colab": {
     "base_uri": "https://localhost:8080/"
    },
    "id": "kNa6vYH1Lxri",
    "outputId": "db6fce17-95ca-4df5-bb4e-79c6555e864b"
   },
   "outputs": [
    {
     "name": "stdout",
     "output_type": "stream",
     "text": [
      "user: 6958       item: 1671       r_ui = 2.00   est = 1.10   {'was_impossible': False}\n"
     ]
    },
    {
     "data": {
      "text/plain": [
       "Prediction(uid=6958, iid=1671, r_ui=2, est=1.101139902392129, details={'was_impossible': False})"
      ]
     },
     "execution_count": 65,
     "metadata": {},
     "output_type": "execute_result"
    }
   ],
   "source": [
    "#Making prediction for user_id 6958 and song_id 1671.\n",
    "clust_baseline.predict(6958, 1671, r_ui = 2, verbose = True)"
   ]
  },
  {
   "cell_type": "code",
   "execution_count": null,
   "metadata": {
    "colab": {
     "base_uri": "https://localhost:8080/"
    },
    "id": "Qx2QuRP1Lytz",
    "outputId": "1e576147-f30e-427a-c49f-74c29bd07d13"
   },
   "outputs": [
    {
     "name": "stdout",
     "output_type": "stream",
     "text": [
      "user: 6958       item: 3232       r_ui = None   est = 1.24   {'was_impossible': False}\n"
     ]
    },
    {
     "data": {
      "text/plain": [
       "Prediction(uid=6958, iid=3232, r_ui=None, est=1.241987684939197, details={'was_impossible': False})"
      ]
     },
     "execution_count": 66,
     "metadata": {},
     "output_type": "execute_result"
    }
   ],
   "source": [
    "#Making prediction for user (userid 6958) for a song(song_id 3232) not heard by the user.\n",
    "clust_baseline.predict(6958, 3232, verbose = True)"
   ]
  },
  {
   "cell_type": "markdown",
   "metadata": {
    "id": "92GI2_5bL157"
   },
   "source": [
    "Improving clustering-based recommendation system by tuning its hyper-parameters"
   ]
  },
  {
   "cell_type": "code",
   "execution_count": null,
   "metadata": {
    "colab": {
     "base_uri": "https://localhost:8080/"
    },
    "id": "bBjvxia_L0Rz",
    "outputId": "2694f9e8-061f-4c17-a7f5-f3acb1935c18"
   },
   "outputs": [
    {
     "name": "stdout",
     "output_type": "stream",
     "text": [
      "1.03782440049616\n",
      "{'n_cltr_u': 5, 'n_cltr_i': 5, 'n_epochs': 20}\n"
     ]
    }
   ],
   "source": [
    "# set the parameter space to tune\n",
    "param_grid = {'n_cltr_u':[5,6,7,8], 'n_cltr_i': [5,6,7,8], 'n_epochs': [10,20,30]}\n",
    "\n",
    "# performing 3-fold gridsearch cross validation\n",
    "gs = GridSearchCV(CoClustering, param_grid, measures = ['rmse'], cv = 3, n_jobs = -1)\n",
    "\n",
    "# fitting data\n",
    "gs.fit(data)\n",
    "\n",
    "# best RMSE score\n",
    "print(gs.best_score['rmse'])\n",
    "\n",
    "# combination of parameters that gave the best RMSE score\n",
    "print(gs.best_params['rmse'])"
   ]
  },
  {
   "cell_type": "markdown",
   "metadata": {
    "id": "aPr5tZjsL6ow"
   },
   "source": [
    "Think About It: How do the parameters affect the performance of the model? Can we improve the performance of the model further? Check the available hyperparameters here."
   ]
  },
  {
   "cell_type": "code",
   "execution_count": null,
   "metadata": {
    "colab": {
     "base_uri": "https://localhost:8080/"
    },
    "id": "dkpVh6CzL5_X",
    "outputId": "767d9f11-ab6a-4dff-c663-394b5a232192"
   },
   "outputs": [
    {
     "name": "stdout",
     "output_type": "stream",
     "text": [
      "RMSE: 1.0456\n",
      "Precision:  0.389\n",
      "Recall:  0.554\n",
      "F_1 score:  0.457\n"
     ]
    }
   ],
   "source": [
    "# Train the tuned Coclustering algorithm\n",
    "clust_tuned = CoClustering(n_cltr_u = 5,n_cltr_i = 5, n_epochs = 20, random_state = 1)\n",
    "\n",
    "# Training the algorithm on the trainset\n",
    "clust_tuned.fit(trainset)\n",
    "\n",
    "# Let us compute precision@k and recall@k with k = 10\n",
    "precision_recall_at_k(clust_tuned)"
   ]
  },
  {
   "cell_type": "markdown",
   "metadata": {
    "id": "rv1bPklkL-SF"
   },
   "source": [
    "**Observations and Insights:**\n",
    "\n",
    "- By hypertuning the parameters we see an increase in F_1 score but not enough to conclude that this model is successful based on the precision"
   ]
  },
  {
   "cell_type": "code",
   "execution_count": null,
   "metadata": {
    "colab": {
     "base_uri": "https://localhost:8080/"
    },
    "id": "mT96vwdgL9n8",
    "outputId": "d3d20044-17d1-4bcb-aa48-7155dd82df36"
   },
   "outputs": [
    {
     "name": "stdout",
     "output_type": "stream",
     "text": [
      "user: 6958       item: 1671       r_ui = 2.00   est = 0.95   {'was_impossible': False}\n"
     ]
    },
    {
     "data": {
      "text/plain": [
       "Prediction(uid=6958, iid=1671, r_ui=2, est=0.9494498399677627, details={'was_impossible': False})"
      ]
     },
     "execution_count": 137,
     "metadata": {},
     "output_type": "execute_result"
    }
   ],
   "source": [
    "#Using co_clustering_optimized model to recommend for userId 6958 and song_id 1671.\n",
    "clust_tuned.predict(6958, 1671, r_ui = 2, verbose = True)"
   ]
  },
  {
   "cell_type": "code",
   "execution_count": null,
   "metadata": {
    "colab": {
     "base_uri": "https://localhost:8080/"
    },
    "id": "QoZniiPtMC3e",
    "outputId": "910705f1-5f8e-4ee3-81c7-1739a5532100"
   },
   "outputs": [
    {
     "name": "stdout",
     "output_type": "stream",
     "text": [
      "user: 6958       item: 3232       r_ui = None   est = 1.15   {'was_impossible': False}\n"
     ]
    },
    {
     "data": {
      "text/plain": [
       "Prediction(uid=6958, iid=3232, r_ui=None, est=1.1486835564428588, details={'was_impossible': False})"
      ]
     },
     "execution_count": 138,
     "metadata": {},
     "output_type": "execute_result"
    }
   ],
   "source": [
    "#Use Co_clustering based optimized model to recommend for userId 6958 and song_id 3232 with unknown baseline rating.\n",
    "clust_tuned.predict(6958, 3232, verbose = True)"
   ]
  },
  {
   "cell_type": "markdown",
   "metadata": {
    "id": "jM0raYp9MG63"
   },
   "source": [
    "**Observations and Insights:**\n",
    "- The est for the hypertuned for song 1671 and 3232 decreased from when we ran the base model"
   ]
  },
  {
   "cell_type": "markdown",
   "metadata": {
    "id": "4ADG386uMKGT"
   },
   "source": [
    "Implementing the recommendation algorithm based on optimized CoClustering model\n"
   ]
  },
  {
   "cell_type": "code",
   "execution_count": null,
   "metadata": {
    "id": "bqaZO9jLMECM"
   },
   "outputs": [],
   "source": [
    "#Getting top 5 recommendations for user_id 6958 using \"Co-clustering based optimized\" algorithm.\n",
    "clustering_recommendations = get_recommendations(df_final, 6958, 5, clust_tuned)"
   ]
  },
  {
   "cell_type": "markdown",
   "metadata": {
    "id": "VVkRmTQ7MNPV"
   },
   "source": [
    "####Correcting the play_count and Ranking the above songs"
   ]
  },
  {
   "cell_type": "code",
   "execution_count": null,
   "metadata": {
    "colab": {
     "base_uri": "https://localhost:8080/",
     "height": 204
    },
    "id": "wIeUEBiIMPzL",
    "outputId": "e2b2b606-5873-462a-b571-1df981b1463f"
   },
   "outputs": [
    {
     "data": {
      "text/html": [
       "\n",
       "  <div id=\"df-9e1dc6a3-92c3-4933-8684-47af7b1c88d7\">\n",
       "    <div class=\"colab-df-container\">\n",
       "      <div>\n",
       "<style scoped>\n",
       "    .dataframe tbody tr th:only-of-type {\n",
       "        vertical-align: middle;\n",
       "    }\n",
       "\n",
       "    .dataframe tbody tr th {\n",
       "        vertical-align: top;\n",
       "    }\n",
       "\n",
       "    .dataframe thead th {\n",
       "        text-align: right;\n",
       "    }\n",
       "</style>\n",
       "<table border=\"1\" class=\"dataframe\">\n",
       "  <thead>\n",
       "    <tr style=\"text-align: right;\">\n",
       "      <th></th>\n",
       "      <th>song_id</th>\n",
       "      <th>play_freq</th>\n",
       "      <th>predicted_ratings</th>\n",
       "      <th>corrected_ratings</th>\n",
       "    </tr>\n",
       "  </thead>\n",
       "  <tbody>\n",
       "    <tr>\n",
       "      <th>3</th>\n",
       "      <td>7224</td>\n",
       "      <td>111</td>\n",
       "      <td>4.233685</td>\n",
       "      <td>4.138769</td>\n",
       "    </tr>\n",
       "    <tr>\n",
       "      <th>1</th>\n",
       "      <td>6450</td>\n",
       "      <td>115</td>\n",
       "      <td>3.262148</td>\n",
       "      <td>3.168897</td>\n",
       "    </tr>\n",
       "    <tr>\n",
       "      <th>4</th>\n",
       "      <td>4831</td>\n",
       "      <td>99</td>\n",
       "      <td>2.834043</td>\n",
       "      <td>2.733539</td>\n",
       "    </tr>\n",
       "    <tr>\n",
       "      <th>0</th>\n",
       "      <td>6246</td>\n",
       "      <td>441</td>\n",
       "      <td>2.764151</td>\n",
       "      <td>2.716532</td>\n",
       "    </tr>\n",
       "    <tr>\n",
       "      <th>2</th>\n",
       "      <td>5653</td>\n",
       "      <td>112</td>\n",
       "      <td>2.806265</td>\n",
       "      <td>2.711774</td>\n",
       "    </tr>\n",
       "  </tbody>\n",
       "</table>\n",
       "</div>\n",
       "      <button class=\"colab-df-convert\" onclick=\"convertToInteractive('df-9e1dc6a3-92c3-4933-8684-47af7b1c88d7')\"\n",
       "              title=\"Convert this dataframe to an interactive table.\"\n",
       "              style=\"display:none;\">\n",
       "        \n",
       "  <svg xmlns=\"http://www.w3.org/2000/svg\" height=\"24px\"viewBox=\"0 0 24 24\"\n",
       "       width=\"24px\">\n",
       "    <path d=\"M0 0h24v24H0V0z\" fill=\"none\"/>\n",
       "    <path d=\"M18.56 5.44l.94 2.06.94-2.06 2.06-.94-2.06-.94-.94-2.06-.94 2.06-2.06.94zm-11 1L8.5 8.5l.94-2.06 2.06-.94-2.06-.94L8.5 2.5l-.94 2.06-2.06.94zm10 10l.94 2.06.94-2.06 2.06-.94-2.06-.94-.94-2.06-.94 2.06-2.06.94z\"/><path d=\"M17.41 7.96l-1.37-1.37c-.4-.4-.92-.59-1.43-.59-.52 0-1.04.2-1.43.59L10.3 9.45l-7.72 7.72c-.78.78-.78 2.05 0 2.83L4 21.41c.39.39.9.59 1.41.59.51 0 1.02-.2 1.41-.59l7.78-7.78 2.81-2.81c.8-.78.8-2.07 0-2.86zM5.41 20L4 18.59l7.72-7.72 1.47 1.35L5.41 20z\"/>\n",
       "  </svg>\n",
       "      </button>\n",
       "      \n",
       "  <style>\n",
       "    .colab-df-container {\n",
       "      display:flex;\n",
       "      flex-wrap:wrap;\n",
       "      gap: 12px;\n",
       "    }\n",
       "\n",
       "    .colab-df-convert {\n",
       "      background-color: #E8F0FE;\n",
       "      border: none;\n",
       "      border-radius: 50%;\n",
       "      cursor: pointer;\n",
       "      display: none;\n",
       "      fill: #1967D2;\n",
       "      height: 32px;\n",
       "      padding: 0 0 0 0;\n",
       "      width: 32px;\n",
       "    }\n",
       "\n",
       "    .colab-df-convert:hover {\n",
       "      background-color: #E2EBFA;\n",
       "      box-shadow: 0px 1px 2px rgba(60, 64, 67, 0.3), 0px 1px 3px 1px rgba(60, 64, 67, 0.15);\n",
       "      fill: #174EA6;\n",
       "    }\n",
       "\n",
       "    [theme=dark] .colab-df-convert {\n",
       "      background-color: #3B4455;\n",
       "      fill: #D2E3FC;\n",
       "    }\n",
       "\n",
       "    [theme=dark] .colab-df-convert:hover {\n",
       "      background-color: #434B5C;\n",
       "      box-shadow: 0px 1px 3px 1px rgba(0, 0, 0, 0.15);\n",
       "      filter: drop-shadow(0px 1px 2px rgba(0, 0, 0, 0.3));\n",
       "      fill: #FFFFFF;\n",
       "    }\n",
       "  </style>\n",
       "\n",
       "      <script>\n",
       "        const buttonEl =\n",
       "          document.querySelector('#df-9e1dc6a3-92c3-4933-8684-47af7b1c88d7 button.colab-df-convert');\n",
       "        buttonEl.style.display =\n",
       "          google.colab.kernel.accessAllowed ? 'block' : 'none';\n",
       "\n",
       "        async function convertToInteractive(key) {\n",
       "          const element = document.querySelector('#df-9e1dc6a3-92c3-4933-8684-47af7b1c88d7');\n",
       "          const dataTable =\n",
       "            await google.colab.kernel.invokeFunction('convertToInteractive',\n",
       "                                                     [key], {});\n",
       "          if (!dataTable) return;\n",
       "\n",
       "          const docLinkHtml = 'Like what you see? Visit the ' +\n",
       "            '<a target=\"_blank\" href=https://colab.research.google.com/notebooks/data_table.ipynb>data table notebook</a>'\n",
       "            + ' to learn more about interactive tables.';\n",
       "          element.innerHTML = '';\n",
       "          dataTable['output_type'] = 'display_data';\n",
       "          await google.colab.output.renderOutput(dataTable, element);\n",
       "          const docLink = document.createElement('div');\n",
       "          docLink.innerHTML = docLinkHtml;\n",
       "          element.appendChild(docLink);\n",
       "        }\n",
       "      </script>\n",
       "    </div>\n",
       "  </div>\n",
       "  "
      ],
      "text/plain": [
       "   song_id  play_freq  predicted_ratings  corrected_ratings\n",
       "3     7224        111           4.233685           4.138769\n",
       "1     6450        115           3.262148           3.168897\n",
       "4     4831         99           2.834043           2.733539\n",
       "0     6246        441           2.764151           2.716532\n",
       "2     5653        112           2.806265           2.711774"
      ]
     },
     "execution_count": 72,
     "metadata": {},
     "output_type": "execute_result"
    }
   ],
   "source": [
    "#Ranking songs based on above recommendations\n",
    "ranking_songs(clustering_recommendations, final_play)"
   ]
  },
  {
   "cell_type": "markdown",
   "metadata": {
    "id": "MHF5ztVQMTZE"
   },
   "source": [
    "**Observations and Insights:**\n",
    "\n",
    "- These predicted and corrected ratings are the highest so far of any model\n"
   ]
  },
  {
   "cell_type": "markdown",
   "metadata": {
    "id": "3zF2a1xe_nD2"
   },
   "source": [
    "### **Content Based Recommendation Systems**"
   ]
  },
  {
   "cell_type": "markdown",
   "metadata": {
    "id": "-KP9Hptk_pI3"
   },
   "source": [
    "Think About It: So far we have only used the play_count of songs to find recommendations but we have other information/features on songs as well. Can we take those song features into account?"
   ]
  },
  {
   "cell_type": "code",
   "execution_count": null,
   "metadata": {
    "id": "F1aJpMiC_nn1"
   },
   "outputs": [],
   "source": [
    "df_small=df_final"
   ]
  },
  {
   "cell_type": "code",
   "execution_count": null,
   "metadata": {
    "colab": {
     "base_uri": "https://localhost:8080/",
     "height": 204
    },
    "id": "z2FtbfI9_z6F",
    "outputId": "a0b6b9b8-d77e-4f40-8679-fc9cd51450c1"
   },
   "outputs": [
    {
     "data": {
      "text/html": [
       "\n",
       "  <div id=\"df-c0e3ed85-9d9f-40fb-a2f4-6051a4d0b5b0\">\n",
       "    <div class=\"colab-df-container\">\n",
       "      <div>\n",
       "<style scoped>\n",
       "    .dataframe tbody tr th:only-of-type {\n",
       "        vertical-align: middle;\n",
       "    }\n",
       "\n",
       "    .dataframe tbody tr th {\n",
       "        vertical-align: top;\n",
       "    }\n",
       "\n",
       "    .dataframe thead th {\n",
       "        text-align: right;\n",
       "    }\n",
       "</style>\n",
       "<table border=\"1\" class=\"dataframe\">\n",
       "  <thead>\n",
       "    <tr style=\"text-align: right;\">\n",
       "      <th></th>\n",
       "      <th>user_id</th>\n",
       "      <th>song_id</th>\n",
       "      <th>play_count</th>\n",
       "      <th>title</th>\n",
       "      <th>release</th>\n",
       "      <th>artist_name</th>\n",
       "      <th>year</th>\n",
       "      <th>text</th>\n",
       "    </tr>\n",
       "  </thead>\n",
       "  <tbody>\n",
       "    <tr>\n",
       "      <th>209</th>\n",
       "      <td>6958</td>\n",
       "      <td>447</td>\n",
       "      <td>1</td>\n",
       "      <td>Daisy And Prudence</td>\n",
       "      <td>Distillation</td>\n",
       "      <td>Erin McKeown</td>\n",
       "      <td>2000</td>\n",
       "      <td>Daisy And PrudenceDistillationErin McKeown</td>\n",
       "    </tr>\n",
       "    <tr>\n",
       "      <th>211</th>\n",
       "      <td>6958</td>\n",
       "      <td>512</td>\n",
       "      <td>1</td>\n",
       "      <td>The Ballad of Michael Valentine</td>\n",
       "      <td>Sawdust</td>\n",
       "      <td>The Killers</td>\n",
       "      <td>2004</td>\n",
       "      <td>The Ballad of Michael ValentineSawdustThe Killers</td>\n",
       "    </tr>\n",
       "    <tr>\n",
       "      <th>212</th>\n",
       "      <td>6958</td>\n",
       "      <td>549</td>\n",
       "      <td>1</td>\n",
       "      <td>I Stand Corrected (Album)</td>\n",
       "      <td>Vampire Weekend</td>\n",
       "      <td>Vampire Weekend</td>\n",
       "      <td>2007</td>\n",
       "      <td>I Stand Corrected (Album)Vampire WeekendVampir...</td>\n",
       "    </tr>\n",
       "    <tr>\n",
       "      <th>213</th>\n",
       "      <td>6958</td>\n",
       "      <td>703</td>\n",
       "      <td>1</td>\n",
       "      <td>They Might Follow You</td>\n",
       "      <td>Tiny Vipers</td>\n",
       "      <td>Tiny Vipers</td>\n",
       "      <td>2007</td>\n",
       "      <td>They Might Follow YouTiny VipersTiny Vipers</td>\n",
       "    </tr>\n",
       "    <tr>\n",
       "      <th>214</th>\n",
       "      <td>6958</td>\n",
       "      <td>719</td>\n",
       "      <td>1</td>\n",
       "      <td>Monkey Man</td>\n",
       "      <td>You Know I'm No Good</td>\n",
       "      <td>Amy Winehouse</td>\n",
       "      <td>2007</td>\n",
       "      <td>Monkey ManYou Know I'm No GoodAmy Winehouse</td>\n",
       "    </tr>\n",
       "  </tbody>\n",
       "</table>\n",
       "</div>\n",
       "      <button class=\"colab-df-convert\" onclick=\"convertToInteractive('df-c0e3ed85-9d9f-40fb-a2f4-6051a4d0b5b0')\"\n",
       "              title=\"Convert this dataframe to an interactive table.\"\n",
       "              style=\"display:none;\">\n",
       "        \n",
       "  <svg xmlns=\"http://www.w3.org/2000/svg\" height=\"24px\"viewBox=\"0 0 24 24\"\n",
       "       width=\"24px\">\n",
       "    <path d=\"M0 0h24v24H0V0z\" fill=\"none\"/>\n",
       "    <path d=\"M18.56 5.44l.94 2.06.94-2.06 2.06-.94-2.06-.94-.94-2.06-.94 2.06-2.06.94zm-11 1L8.5 8.5l.94-2.06 2.06-.94-2.06-.94L8.5 2.5l-.94 2.06-2.06.94zm10 10l.94 2.06.94-2.06 2.06-.94-2.06-.94-.94-2.06-.94 2.06-2.06.94z\"/><path d=\"M17.41 7.96l-1.37-1.37c-.4-.4-.92-.59-1.43-.59-.52 0-1.04.2-1.43.59L10.3 9.45l-7.72 7.72c-.78.78-.78 2.05 0 2.83L4 21.41c.39.39.9.59 1.41.59.51 0 1.02-.2 1.41-.59l7.78-7.78 2.81-2.81c.8-.78.8-2.07 0-2.86zM5.41 20L4 18.59l7.72-7.72 1.47 1.35L5.41 20z\"/>\n",
       "  </svg>\n",
       "      </button>\n",
       "      \n",
       "  <style>\n",
       "    .colab-df-container {\n",
       "      display:flex;\n",
       "      flex-wrap:wrap;\n",
       "      gap: 12px;\n",
       "    }\n",
       "\n",
       "    .colab-df-convert {\n",
       "      background-color: #E8F0FE;\n",
       "      border: none;\n",
       "      border-radius: 50%;\n",
       "      cursor: pointer;\n",
       "      display: none;\n",
       "      fill: #1967D2;\n",
       "      height: 32px;\n",
       "      padding: 0 0 0 0;\n",
       "      width: 32px;\n",
       "    }\n",
       "\n",
       "    .colab-df-convert:hover {\n",
       "      background-color: #E2EBFA;\n",
       "      box-shadow: 0px 1px 2px rgba(60, 64, 67, 0.3), 0px 1px 3px 1px rgba(60, 64, 67, 0.15);\n",
       "      fill: #174EA6;\n",
       "    }\n",
       "\n",
       "    [theme=dark] .colab-df-convert {\n",
       "      background-color: #3B4455;\n",
       "      fill: #D2E3FC;\n",
       "    }\n",
       "\n",
       "    [theme=dark] .colab-df-convert:hover {\n",
       "      background-color: #434B5C;\n",
       "      box-shadow: 0px 1px 3px 1px rgba(0, 0, 0, 0.15);\n",
       "      filter: drop-shadow(0px 1px 2px rgba(0, 0, 0, 0.3));\n",
       "      fill: #FFFFFF;\n",
       "    }\n",
       "  </style>\n",
       "\n",
       "      <script>\n",
       "        const buttonEl =\n",
       "          document.querySelector('#df-c0e3ed85-9d9f-40fb-a2f4-6051a4d0b5b0 button.colab-df-convert');\n",
       "        buttonEl.style.display =\n",
       "          google.colab.kernel.accessAllowed ? 'block' : 'none';\n",
       "\n",
       "        async function convertToInteractive(key) {\n",
       "          const element = document.querySelector('#df-c0e3ed85-9d9f-40fb-a2f4-6051a4d0b5b0');\n",
       "          const dataTable =\n",
       "            await google.colab.kernel.invokeFunction('convertToInteractive',\n",
       "                                                     [key], {});\n",
       "          if (!dataTable) return;\n",
       "\n",
       "          const docLinkHtml = 'Like what you see? Visit the ' +\n",
       "            '<a target=\"_blank\" href=https://colab.research.google.com/notebooks/data_table.ipynb>data table notebook</a>'\n",
       "            + ' to learn more about interactive tables.';\n",
       "          element.innerHTML = '';\n",
       "          dataTable['output_type'] = 'display_data';\n",
       "          await google.colab.output.renderOutput(dataTable, element);\n",
       "          const docLink = document.createElement('div');\n",
       "          docLink.innerHTML = docLinkHtml;\n",
       "          element.appendChild(docLink);\n",
       "        }\n",
       "      </script>\n",
       "    </div>\n",
       "  </div>\n",
       "  "
      ],
      "text/plain": [
       "     user_id  song_id  play_count                            title  \\\n",
       "209     6958      447           1               Daisy And Prudence   \n",
       "211     6958      512           1  The Ballad of Michael Valentine   \n",
       "212     6958      549           1        I Stand Corrected (Album)   \n",
       "213     6958      703           1            They Might Follow You   \n",
       "214     6958      719           1                       Monkey Man   \n",
       "\n",
       "                  release      artist_name  year  \\\n",
       "209          Distillation     Erin McKeown  2000   \n",
       "211               Sawdust      The Killers  2004   \n",
       "212       Vampire Weekend  Vampire Weekend  2007   \n",
       "213           Tiny Vipers      Tiny Vipers  2007   \n",
       "214  You Know I'm No Good    Amy Winehouse  2007   \n",
       "\n",
       "                                                  text  \n",
       "209         Daisy And PrudenceDistillationErin McKeown  \n",
       "211  The Ballad of Michael ValentineSawdustThe Killers  \n",
       "212  I Stand Corrected (Album)Vampire WeekendVampir...  \n",
       "213        They Might Follow YouTiny VipersTiny Vipers  \n",
       "214        Monkey ManYou Know I'm No GoodAmy Winehouse  "
      ]
     },
     "execution_count": 74,
     "metadata": {},
     "output_type": "execute_result"
    }
   ],
   "source": [
    "# Concatenate the \"title\",\"release\",\"artist_name\" columns to create a different column named \"text\"\n",
    "df_small['text'] = df_small['title']+df_small['release']+df_small['artist_name']\n",
    "df_small.head()"
   ]
  },
  {
   "cell_type": "code",
   "execution_count": null,
   "metadata": {
    "colab": {
     "base_uri": "https://localhost:8080/",
     "height": 235
    },
    "id": "S9HoDhLE_1t_",
    "outputId": "e39a354a-40fb-4036-b9a9-12e2de0d7eaa"
   },
   "outputs": [
    {
     "data": {
      "text/html": [
       "\n",
       "  <div id=\"df-d678fb1d-f86e-4a7a-94d0-3703fef6cb0c\">\n",
       "    <div class=\"colab-df-container\">\n",
       "      <div>\n",
       "<style scoped>\n",
       "    .dataframe tbody tr th:only-of-type {\n",
       "        vertical-align: middle;\n",
       "    }\n",
       "\n",
       "    .dataframe tbody tr th {\n",
       "        vertical-align: top;\n",
       "    }\n",
       "\n",
       "    .dataframe thead th {\n",
       "        text-align: right;\n",
       "    }\n",
       "</style>\n",
       "<table border=\"1\" class=\"dataframe\">\n",
       "  <thead>\n",
       "    <tr style=\"text-align: right;\">\n",
       "      <th></th>\n",
       "      <th>user_id</th>\n",
       "      <th>song_id</th>\n",
       "      <th>play_count</th>\n",
       "      <th>text</th>\n",
       "    </tr>\n",
       "    <tr>\n",
       "      <th>title</th>\n",
       "      <th></th>\n",
       "      <th></th>\n",
       "      <th></th>\n",
       "      <th></th>\n",
       "    </tr>\n",
       "  </thead>\n",
       "  <tbody>\n",
       "    <tr>\n",
       "      <th>Daisy And Prudence</th>\n",
       "      <td>6958</td>\n",
       "      <td>447</td>\n",
       "      <td>1</td>\n",
       "      <td>Daisy And PrudenceDistillationErin McKeown</td>\n",
       "    </tr>\n",
       "    <tr>\n",
       "      <th>The Ballad of Michael Valentine</th>\n",
       "      <td>6958</td>\n",
       "      <td>512</td>\n",
       "      <td>1</td>\n",
       "      <td>The Ballad of Michael ValentineSawdustThe Killers</td>\n",
       "    </tr>\n",
       "    <tr>\n",
       "      <th>I Stand Corrected (Album)</th>\n",
       "      <td>6958</td>\n",
       "      <td>549</td>\n",
       "      <td>1</td>\n",
       "      <td>I Stand Corrected (Album)Vampire WeekendVampir...</td>\n",
       "    </tr>\n",
       "    <tr>\n",
       "      <th>They Might Follow You</th>\n",
       "      <td>6958</td>\n",
       "      <td>703</td>\n",
       "      <td>1</td>\n",
       "      <td>They Might Follow YouTiny VipersTiny Vipers</td>\n",
       "    </tr>\n",
       "    <tr>\n",
       "      <th>Monkey Man</th>\n",
       "      <td>6958</td>\n",
       "      <td>719</td>\n",
       "      <td>1</td>\n",
       "      <td>Monkey ManYou Know I'm No GoodAmy Winehouse</td>\n",
       "    </tr>\n",
       "  </tbody>\n",
       "</table>\n",
       "</div>\n",
       "      <button class=\"colab-df-convert\" onclick=\"convertToInteractive('df-d678fb1d-f86e-4a7a-94d0-3703fef6cb0c')\"\n",
       "              title=\"Convert this dataframe to an interactive table.\"\n",
       "              style=\"display:none;\">\n",
       "        \n",
       "  <svg xmlns=\"http://www.w3.org/2000/svg\" height=\"24px\"viewBox=\"0 0 24 24\"\n",
       "       width=\"24px\">\n",
       "    <path d=\"M0 0h24v24H0V0z\" fill=\"none\"/>\n",
       "    <path d=\"M18.56 5.44l.94 2.06.94-2.06 2.06-.94-2.06-.94-.94-2.06-.94 2.06-2.06.94zm-11 1L8.5 8.5l.94-2.06 2.06-.94-2.06-.94L8.5 2.5l-.94 2.06-2.06.94zm10 10l.94 2.06.94-2.06 2.06-.94-2.06-.94-.94-2.06-.94 2.06-2.06.94z\"/><path d=\"M17.41 7.96l-1.37-1.37c-.4-.4-.92-.59-1.43-.59-.52 0-1.04.2-1.43.59L10.3 9.45l-7.72 7.72c-.78.78-.78 2.05 0 2.83L4 21.41c.39.39.9.59 1.41.59.51 0 1.02-.2 1.41-.59l7.78-7.78 2.81-2.81c.8-.78.8-2.07 0-2.86zM5.41 20L4 18.59l7.72-7.72 1.47 1.35L5.41 20z\"/>\n",
       "  </svg>\n",
       "      </button>\n",
       "      \n",
       "  <style>\n",
       "    .colab-df-container {\n",
       "      display:flex;\n",
       "      flex-wrap:wrap;\n",
       "      gap: 12px;\n",
       "    }\n",
       "\n",
       "    .colab-df-convert {\n",
       "      background-color: #E8F0FE;\n",
       "      border: none;\n",
       "      border-radius: 50%;\n",
       "      cursor: pointer;\n",
       "      display: none;\n",
       "      fill: #1967D2;\n",
       "      height: 32px;\n",
       "      padding: 0 0 0 0;\n",
       "      width: 32px;\n",
       "    }\n",
       "\n",
       "    .colab-df-convert:hover {\n",
       "      background-color: #E2EBFA;\n",
       "      box-shadow: 0px 1px 2px rgba(60, 64, 67, 0.3), 0px 1px 3px 1px rgba(60, 64, 67, 0.15);\n",
       "      fill: #174EA6;\n",
       "    }\n",
       "\n",
       "    [theme=dark] .colab-df-convert {\n",
       "      background-color: #3B4455;\n",
       "      fill: #D2E3FC;\n",
       "    }\n",
       "\n",
       "    [theme=dark] .colab-df-convert:hover {\n",
       "      background-color: #434B5C;\n",
       "      box-shadow: 0px 1px 3px 1px rgba(0, 0, 0, 0.15);\n",
       "      filter: drop-shadow(0px 1px 2px rgba(0, 0, 0, 0.3));\n",
       "      fill: #FFFFFF;\n",
       "    }\n",
       "  </style>\n",
       "\n",
       "      <script>\n",
       "        const buttonEl =\n",
       "          document.querySelector('#df-d678fb1d-f86e-4a7a-94d0-3703fef6cb0c button.colab-df-convert');\n",
       "        buttonEl.style.display =\n",
       "          google.colab.kernel.accessAllowed ? 'block' : 'none';\n",
       "\n",
       "        async function convertToInteractive(key) {\n",
       "          const element = document.querySelector('#df-d678fb1d-f86e-4a7a-94d0-3703fef6cb0c');\n",
       "          const dataTable =\n",
       "            await google.colab.kernel.invokeFunction('convertToInteractive',\n",
       "                                                     [key], {});\n",
       "          if (!dataTable) return;\n",
       "\n",
       "          const docLinkHtml = 'Like what you see? Visit the ' +\n",
       "            '<a target=\"_blank\" href=https://colab.research.google.com/notebooks/data_table.ipynb>data table notebook</a>'\n",
       "            + ' to learn more about interactive tables.';\n",
       "          element.innerHTML = '';\n",
       "          dataTable['output_type'] = 'display_data';\n",
       "          await google.colab.output.renderOutput(dataTable, element);\n",
       "          const docLink = document.createElement('div');\n",
       "          docLink.innerHTML = docLinkHtml;\n",
       "          element.appendChild(docLink);\n",
       "        }\n",
       "      </script>\n",
       "    </div>\n",
       "  </div>\n",
       "  "
      ],
      "text/plain": [
       "                                 user_id  song_id  play_count  \\\n",
       "title                                                           \n",
       "Daisy And Prudence                  6958      447           1   \n",
       "The Ballad of Michael Valentine     6958      512           1   \n",
       "I Stand Corrected (Album)           6958      549           1   \n",
       "They Might Follow You               6958      703           1   \n",
       "Monkey Man                          6958      719           1   \n",
       "\n",
       "                                                                              text  \n",
       "title                                                                               \n",
       "Daisy And Prudence                      Daisy And PrudenceDistillationErin McKeown  \n",
       "The Ballad of Michael Valentine  The Ballad of Michael ValentineSawdustThe Killers  \n",
       "I Stand Corrected (Album)        I Stand Corrected (Album)Vampire WeekendVampir...  \n",
       "They Might Follow You                  They Might Follow YouTiny VipersTiny Vipers  \n",
       "Monkey Man                             Monkey ManYou Know I'm No GoodAmy Winehouse  "
      ]
     },
     "execution_count": 75,
     "metadata": {},
     "output_type": "execute_result"
    }
   ],
   "source": [
    "#Select the columns 'user_id', 'song_id', 'play_count', 'title', 'text' from df_small data\n",
    "df_small = df_small[['user_id', 'song_id', 'play_count', 'title', 'text']]\n",
    "#drop the duplicates from the title column\n",
    "df_small = df_small.drop_duplicates(subset = ['title'])\n",
    "#Set the title column as the index\n",
    "df_small = df_small.set_index('title')\n",
    "# see the first 5 records of the df_small dataset\n",
    "df_small.head()"
   ]
  },
  {
   "cell_type": "code",
   "execution_count": null,
   "metadata": {
    "colab": {
     "base_uri": "https://localhost:8080/"
    },
    "id": "fqPUgAyg_4eP",
    "outputId": "f2c105a6-f582-4637-d635-f92d1a0b1c7f"
   },
   "outputs": [
    {
     "data": {
      "text/plain": [
       "0                 Daisy And Prudence\n",
       "1    The Ballad of Michael Valentine\n",
       "2          I Stand Corrected (Album)\n",
       "3              They Might Follow You\n",
       "4                         Monkey Man\n",
       "Name: title, dtype: object"
      ]
     },
     "execution_count": 76,
     "metadata": {},
     "output_type": "execute_result"
    }
   ],
   "source": [
    "# Create the series of indices from the data\n",
    "indices = pd.Series(df_small.index)\n",
    "indices[:5]"
   ]
  },
  {
   "cell_type": "code",
   "execution_count": null,
   "metadata": {
    "colab": {
     "base_uri": "https://localhost:8080/"
    },
    "id": "aWw2FxBU_6O7",
    "outputId": "2d54d9f0-3639-4917-cc14-a00c3481a578"
   },
   "outputs": [
    {
     "name": "stdout",
     "output_type": "stream",
     "text": [
      "[nltk_data] Downloading package punkt to /root/nltk_data...\n",
      "[nltk_data]   Unzipping tokenizers/punkt.zip.\n",
      "[nltk_data] Downloading package stopwords to /root/nltk_data...\n",
      "[nltk_data]   Unzipping corpora/stopwords.zip.\n",
      "[nltk_data] Downloading package wordnet to /root/nltk_data...\n",
      "[nltk_data]   Unzipping corpora/wordnet.zip.\n"
     ]
    }
   ],
   "source": [
    "#Importing necessary packages to work with text data\n",
    "import nltk\n",
    "nltk.download(\"punkt\")\n",
    "nltk.download(\"stopwords\")\n",
    "nltk.download(\"wordnet\")\n",
    "import re\n",
    "from nltk import word_tokenize\n",
    "from nltk.stem import WordNetLemmatizer\n",
    "from nltk.corpus import stopwords\n",
    "from sklearn.feature_extraction.text import CountVectorizer, TfidfVectorizer"
   ]
  },
  {
   "cell_type": "markdown",
   "metadata": {
    "id": "uIxmGg80_-u_"
   },
   "source": [
    "We will create a function to pre-process the text data:"
   ]
  },
  {
   "cell_type": "code",
   "execution_count": null,
   "metadata": {
    "id": "tARgUBSD_8l-"
   },
   "outputs": [],
   "source": [
    "# Function to tokenize the text\n",
    "def tokenize(text):\n",
    "    text = re.sub(r\"[^a-zA-Z]\",\" \",text.lower())\n",
    "    tokens = word_tokenize(text)\n",
    "    words = [word for word in tokens if word not in stopwords.words(\"english\")] #Use stopwords of english\n",
    "    text_lems = [WordNetLemmatizer().lemmatize(lem).strip() for lem in words]\n",
    "\n",
    "    return text_lems"
   ]
  },
  {
   "cell_type": "code",
   "execution_count": null,
   "metadata": {
    "id": "GYH2DE-dABmz"
   },
   "outputs": [],
   "source": [
    "#Create tfidf vectorizer \n",
    "tfidf = TfidfVectorizer(tokenizer = tokenize)\n",
    "# Fit_transfrom the above vectorizer on the text column and then convert the output into an array.\n",
    "song_tfidf = tfidf.fit_transform(df_small['text'].values).toarray()"
   ]
  },
  {
   "cell_type": "code",
   "execution_count": null,
   "metadata": {
    "colab": {
     "base_uri": "https://localhost:8080/"
    },
    "id": "2N_nSWrKADdG",
    "outputId": "d65d95da-188f-4bbb-f4c5-39b8e8f9b8ec"
   },
   "outputs": [
    {
     "data": {
      "text/plain": [
       "array([[1.        , 0.        , 0.        , ..., 0.        , 0.        ,\n",
       "        0.        ],\n",
       "       [0.        , 1.        , 0.        , ..., 0.        , 0.        ,\n",
       "        0.        ],\n",
       "       [0.        , 0.        , 1.        , ..., 0.        , 0.        ,\n",
       "        0.05741292],\n",
       "       ...,\n",
       "       [0.        , 0.        , 0.        , ..., 1.        , 0.        ,\n",
       "        0.        ],\n",
       "       [0.        , 0.        , 0.        , ..., 0.        , 1.        ,\n",
       "        0.        ],\n",
       "       [0.        , 0.        , 0.05741292, ..., 0.        , 0.        ,\n",
       "        1.        ]])"
      ]
     },
     "execution_count": 80,
     "metadata": {},
     "output_type": "execute_result"
    }
   ],
   "source": [
    "# Compute the cosine similarity for the tfidf above output\n",
    "pd.DataFrame(song_tfidf)\n",
    "# Calculating the cosine similarity\n",
    "similar_songs = cosine_similarity(song_tfidf, song_tfidf)\n",
    "\n",
    "# Let us see the above array\n",
    "similar_songs"
   ]
  },
  {
   "cell_type": "markdown",
   "metadata": {
    "id": "wc1nPQNNAFb5"
   },
   "source": [
    "Finally, let's create a function to find most similar songs to recommend for a given song"
   ]
  },
  {
   "cell_type": "code",
   "execution_count": null,
   "metadata": {
    "id": "GqtHRpd6AHii"
   },
   "outputs": [],
   "source": [
    "# function that takes in song title as input and returns the top 10 recommended songs\n",
    "def recommendations(title, similar_songs):\n",
    "    \n",
    "    recommended_songs = []\n",
    "    \n",
    "    # gettin the index of the song that matches the title\n",
    "    idx = indices[indices == title].index[0]\n",
    "\n",
    "    # creating a Series with the similarity scores in descending order\n",
    "    score_series = pd.Series(similar_songs[idx]).sort_values(ascending = False)\n",
    "\n",
    "    # getting the indexes of the 10 most similar songs\n",
    "    top_10_indexes = list(score_series.iloc[1:11].index)\n",
    "    print(top_10_indexes)\n",
    "    \n",
    "    # populating the list with the titles of the best 10 matching songs\n",
    "    for i in top_10_indexes:\n",
    "        recommended_songs.append(list(df_small.index)[i])\n",
    "        \n",
    "    return recommended_songs"
   ]
  },
  {
   "cell_type": "markdown",
   "metadata": {
    "id": "Gd8nhiU7AKJ_"
   },
   "source": [
    "Recommending 10 songs similar to Learn to Fly"
   ]
  },
  {
   "cell_type": "code",
   "execution_count": null,
   "metadata": {
    "colab": {
     "base_uri": "https://localhost:8080/"
    },
    "id": "x-PNX50xAMn9",
    "outputId": "c6497bda-40ca-4d19-a837-fa6456e8a5eb"
   },
   "outputs": [
    {
     "name": "stdout",
     "output_type": "stream",
     "text": [
      "[392, 506, 484, 256, 566, 473, 466, 467, 468, 469]\n"
     ]
    },
    {
     "data": {
      "text/plain": [
       "['From Left To Right',\n",
       " 'Nothing Better (Album)',\n",
       " 'Big Me',\n",
       " 'The Pretender',\n",
       " 'Everlong',\n",
       " 'Everything Will Be Alright',\n",
       " 'Michael',\n",
       " 'Gardenhead / Leave Me Alone',\n",
       " 'Coda',\n",
       " 'Polite Dance Song']"
      ]
     },
     "execution_count": 82,
     "metadata": {},
     "output_type": "execute_result"
    }
   ],
   "source": [
    "# Make the recommendation for the song with title 'Learn To Fly'\n",
    "recommendations('Learn To Fly', similar_songs)"
   ]
  },
  {
   "cell_type": "markdown",
   "metadata": {
    "id": "4nDEYrKcATJm"
   },
   "source": [
    "**Observations and Insights:**\n",
    "\n",
    "- The best song recommendations for \"Learn To Fly\" were 'From Left To Right', 'Nothing Better (Album)', 'Big Me', 'The Pretender', 'Everlong', 'Everything Will Be Alright', 'Michael', 'Gardenhead / Leave Me Alone', 'Coda', and 'Polite Dance Song'"
   ]
  },
  {
   "cell_type": "markdown",
   "metadata": {
    "id": "48SPgt6VAVGi"
   },
   "source": [
    "###**Conclusion and Recommendations:**###"
   ]
  },
  {
   "cell_type": "markdown",
   "metadata": {
    "id": "26nfuixCAbNu"
   },
   "source": [
    "- **Refined Insights** - What are the most meaningful insights from the data relevant to the problem?\n",
    "\n",
    " For the user-user and item-tem we received the same song recommendations and the same predicted and corrected ratings. Cluster method had the highest predicted and corrected ratings and matrix lowest.\n",
    "\n",
    " By utilizing Content Based Recommendations System, we discoverd that the best song recommendations for \"Learn To Fly\" were 'From Left To Right', 'Nothing Better (Album)', 'Big Me', 'The Pretender', 'Everlong', 'Everything Will Be Alright', 'Michael', 'Gardenhead / Leave Me Alone', 'Coda', and 'Polite Dance Song'.\n",
    "\n",
    "- **Comparison of various techniques and their relative performance** - How do different techniques perform? Which one is performing relatively better? Is there scope to improve the performance further?\n",
    "\n",
    " In this project, we built recommendation systems using four different algorithms. They are as follows:\n",
    "\n",
    " - Popularity-Based Recommendation Systems\n",
    " - User-User similarity-based collaborative filtering\n",
    " - Item-Item similarity-based collaborative filtering\n",
    " - Model-based collaborative filtering (matrix factorization)\n",
    " - Cluster Based\n",
    " - Content Based\n",
    "\n",
    " The surprise library was used to demonstrate the previously mentioned algorithms. For these algorithms, grid search cross-validation is used to find the optimal hyperparameters for the data, and related predictions are created using the optimal hyperparameters.\n",
    "\n",
    " We built used the following hyperparameters to fine tune the user-user and item-item algorithms. They are as follows:\n",
    "\n",
    " - Cosine\n",
    " - MSD\n",
    " - Pearson\n",
    " - Pearson Baseline\n",
    "\n",
    " ![Screen Shot 2022-06-03 at 10.29.20 PM.png](data:image/png;base64,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)\n",
    "\n",
    " Pearson Baseline parameter gave us the best optimized model for both user-user and item-item. MSD had the highest precision score for user-user. Pearson had the highest recall rate for user-user. The worse performing parameter was cosine. \n",
    "\n",
    " We can try to further improve the performance of these models using hyperparameter tuning even more those who did not perform as well.\n",
    "\n",
    " We can also combine different recommendation techniques to build hybrid recommendation systems.\n",
    "\n",
    "- **Proposal for the final solution design** - What model do you propose to be adopted? Why is this the best solution to adopt?\n",
    "\n",
    " The overall best model to use is user-user optimized since it has the highest F-1 Score and recall using the Pearson Baseline parameter despite having a lower precision rate than item-item optimized, as well as, RMSE.\n",
    "\n",
    " Additionally, the content based recommendations system worked well since it is text based data and can recommend the exact song name for the listener, versus with an ID number. \n",
    " \n",
    " Moving forward, would like to explore to build a hybrid recommendations system between user-user, item-item, and content based. User-user because the precision scores and F_1 scores performed the best and content based would be good to use to capitilize on its text data processing ability."
   ]
  },
  {
   "cell_type": "code",
   "execution_count": null,
   "metadata": {
    "id": "3Zp_MMBYATj8"
   },
   "outputs": [],
   "source": []
  }
 ],
 "metadata": {
  "colab": {
   "collapsed_sections": [
    "Km5ozaHFh_cU",
    "K8ZsBxrkMO9I",
    "aIUCFMSpHPj-",
    "EV3tKCCuHfn3"
   ],
   "name": "Capstone Project - Music Recommendation_Systems.ipynb",
   "provenance": []
  },
  "kernelspec": {
   "display_name": "Python 3 (ipykernel)",
   "language": "python",
   "name": "python3"
  },
  "language_info": {
   "codemirror_mode": {
    "name": "ipython",
    "version": 3
   },
   "file_extension": ".py",
   "mimetype": "text/x-python",
   "name": "python",
   "nbconvert_exporter": "python",
   "pygments_lexer": "ipython3",
   "version": "3.9.7"
  }
 },
 "nbformat": 4,
 "nbformat_minor": 4
}
